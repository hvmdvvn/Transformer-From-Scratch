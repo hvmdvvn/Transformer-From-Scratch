{
  "nbformat": 4,
  "nbformat_minor": 0,
  "metadata": {
    "colab": {
      "provenance": [],
      "gpuType": "T4",
      "authorship_tag": "ABX9TyPRkj8MvjAD92CFlTBcFZNL",
      "include_colab_link": true
    },
    "kernelspec": {
      "name": "python3",
      "display_name": "Python 3"
    },
    "language_info": {
      "name": "python"
    },
    "accelerator": "GPU",
    "widgets": {
      "application/vnd.jupyter.widget-state+json": {
        "35b1f459ca6f42e2a7fcbaf6a7b7766f": {
          "model_module": "@jupyter-widgets/controls",
          "model_name": "HBoxModel",
          "model_module_version": "1.5.0",
          "state": {
            "_dom_classes": [],
            "_model_module": "@jupyter-widgets/controls",
            "_model_module_version": "1.5.0",
            "_model_name": "HBoxModel",
            "_view_count": null,
            "_view_module": "@jupyter-widgets/controls",
            "_view_module_version": "1.5.0",
            "_view_name": "HBoxView",
            "box_style": "",
            "children": [
              "IPY_MODEL_a1a7930774f04068b6133664093e0fe6",
              "IPY_MODEL_f9b4cc6df908485f8d3096bf55744c5c",
              "IPY_MODEL_02fb761e7fd54d9ca197098a5955930d"
            ],
            "layout": "IPY_MODEL_b880c97b8eb147009d0fc31622ac207f"
          }
        },
        "a1a7930774f04068b6133664093e0fe6": {
          "model_module": "@jupyter-widgets/controls",
          "model_name": "HTMLModel",
          "model_module_version": "1.5.0",
          "state": {
            "_dom_classes": [],
            "_model_module": "@jupyter-widgets/controls",
            "_model_module_version": "1.5.0",
            "_model_name": "HTMLModel",
            "_view_count": null,
            "_view_module": "@jupyter-widgets/controls",
            "_view_module_version": "1.5.0",
            "_view_name": "HTMLView",
            "description": "",
            "description_tooltip": null,
            "layout": "IPY_MODEL_eb492e030e6b4c118196b173f7b898ed",
            "placeholder": "​",
            "style": "IPY_MODEL_22603735d4fc45cc9f7be26d81faf597",
            "value": "tokenizer_config.json: 100%"
          }
        },
        "f9b4cc6df908485f8d3096bf55744c5c": {
          "model_module": "@jupyter-widgets/controls",
          "model_name": "FloatProgressModel",
          "model_module_version": "1.5.0",
          "state": {
            "_dom_classes": [],
            "_model_module": "@jupyter-widgets/controls",
            "_model_module_version": "1.5.0",
            "_model_name": "FloatProgressModel",
            "_view_count": null,
            "_view_module": "@jupyter-widgets/controls",
            "_view_module_version": "1.5.0",
            "_view_name": "ProgressView",
            "bar_style": "success",
            "description": "",
            "description_tooltip": null,
            "layout": "IPY_MODEL_18f9246272cb46e19964dea6b1191050",
            "max": 131,
            "min": 0,
            "orientation": "horizontal",
            "style": "IPY_MODEL_a4abd15b6f314f23978f4fb05a4a1bd8",
            "value": 131
          }
        },
        "02fb761e7fd54d9ca197098a5955930d": {
          "model_module": "@jupyter-widgets/controls",
          "model_name": "HTMLModel",
          "model_module_version": "1.5.0",
          "state": {
            "_dom_classes": [],
            "_model_module": "@jupyter-widgets/controls",
            "_model_module_version": "1.5.0",
            "_model_name": "HTMLModel",
            "_view_count": null,
            "_view_module": "@jupyter-widgets/controls",
            "_view_module_version": "1.5.0",
            "_view_name": "HTMLView",
            "description": "",
            "description_tooltip": null,
            "layout": "IPY_MODEL_7d6764d169b7477d9ad40d6d8363e7a3",
            "placeholder": "​",
            "style": "IPY_MODEL_b17d569cdb5a4901a4caf8fdb7b4db21",
            "value": " 131/131 [00:00&lt;00:00, 3.55kB/s]"
          }
        },
        "b880c97b8eb147009d0fc31622ac207f": {
          "model_module": "@jupyter-widgets/base",
          "model_name": "LayoutModel",
          "model_module_version": "1.2.0",
          "state": {
            "_model_module": "@jupyter-widgets/base",
            "_model_module_version": "1.2.0",
            "_model_name": "LayoutModel",
            "_view_count": null,
            "_view_module": "@jupyter-widgets/base",
            "_view_module_version": "1.2.0",
            "_view_name": "LayoutView",
            "align_content": null,
            "align_items": null,
            "align_self": null,
            "border": null,
            "bottom": null,
            "display": null,
            "flex": null,
            "flex_flow": null,
            "grid_area": null,
            "grid_auto_columns": null,
            "grid_auto_flow": null,
            "grid_auto_rows": null,
            "grid_column": null,
            "grid_gap": null,
            "grid_row": null,
            "grid_template_areas": null,
            "grid_template_columns": null,
            "grid_template_rows": null,
            "height": null,
            "justify_content": null,
            "justify_items": null,
            "left": null,
            "margin": null,
            "max_height": null,
            "max_width": null,
            "min_height": null,
            "min_width": null,
            "object_fit": null,
            "object_position": null,
            "order": null,
            "overflow": null,
            "overflow_x": null,
            "overflow_y": null,
            "padding": null,
            "right": null,
            "top": null,
            "visibility": null,
            "width": null
          }
        },
        "eb492e030e6b4c118196b173f7b898ed": {
          "model_module": "@jupyter-widgets/base",
          "model_name": "LayoutModel",
          "model_module_version": "1.2.0",
          "state": {
            "_model_module": "@jupyter-widgets/base",
            "_model_module_version": "1.2.0",
            "_model_name": "LayoutModel",
            "_view_count": null,
            "_view_module": "@jupyter-widgets/base",
            "_view_module_version": "1.2.0",
            "_view_name": "LayoutView",
            "align_content": null,
            "align_items": null,
            "align_self": null,
            "border": null,
            "bottom": null,
            "display": null,
            "flex": null,
            "flex_flow": null,
            "grid_area": null,
            "grid_auto_columns": null,
            "grid_auto_flow": null,
            "grid_auto_rows": null,
            "grid_column": null,
            "grid_gap": null,
            "grid_row": null,
            "grid_template_areas": null,
            "grid_template_columns": null,
            "grid_template_rows": null,
            "height": null,
            "justify_content": null,
            "justify_items": null,
            "left": null,
            "margin": null,
            "max_height": null,
            "max_width": null,
            "min_height": null,
            "min_width": null,
            "object_fit": null,
            "object_position": null,
            "order": null,
            "overflow": null,
            "overflow_x": null,
            "overflow_y": null,
            "padding": null,
            "right": null,
            "top": null,
            "visibility": null,
            "width": null
          }
        },
        "22603735d4fc45cc9f7be26d81faf597": {
          "model_module": "@jupyter-widgets/controls",
          "model_name": "DescriptionStyleModel",
          "model_module_version": "1.5.0",
          "state": {
            "_model_module": "@jupyter-widgets/controls",
            "_model_module_version": "1.5.0",
            "_model_name": "DescriptionStyleModel",
            "_view_count": null,
            "_view_module": "@jupyter-widgets/base",
            "_view_module_version": "1.2.0",
            "_view_name": "StyleView",
            "description_width": ""
          }
        },
        "18f9246272cb46e19964dea6b1191050": {
          "model_module": "@jupyter-widgets/base",
          "model_name": "LayoutModel",
          "model_module_version": "1.2.0",
          "state": {
            "_model_module": "@jupyter-widgets/base",
            "_model_module_version": "1.2.0",
            "_model_name": "LayoutModel",
            "_view_count": null,
            "_view_module": "@jupyter-widgets/base",
            "_view_module_version": "1.2.0",
            "_view_name": "LayoutView",
            "align_content": null,
            "align_items": null,
            "align_self": null,
            "border": null,
            "bottom": null,
            "display": null,
            "flex": null,
            "flex_flow": null,
            "grid_area": null,
            "grid_auto_columns": null,
            "grid_auto_flow": null,
            "grid_auto_rows": null,
            "grid_column": null,
            "grid_gap": null,
            "grid_row": null,
            "grid_template_areas": null,
            "grid_template_columns": null,
            "grid_template_rows": null,
            "height": null,
            "justify_content": null,
            "justify_items": null,
            "left": null,
            "margin": null,
            "max_height": null,
            "max_width": null,
            "min_height": null,
            "min_width": null,
            "object_fit": null,
            "object_position": null,
            "order": null,
            "overflow": null,
            "overflow_x": null,
            "overflow_y": null,
            "padding": null,
            "right": null,
            "top": null,
            "visibility": null,
            "width": null
          }
        },
        "a4abd15b6f314f23978f4fb05a4a1bd8": {
          "model_module": "@jupyter-widgets/controls",
          "model_name": "ProgressStyleModel",
          "model_module_version": "1.5.0",
          "state": {
            "_model_module": "@jupyter-widgets/controls",
            "_model_module_version": "1.5.0",
            "_model_name": "ProgressStyleModel",
            "_view_count": null,
            "_view_module": "@jupyter-widgets/base",
            "_view_module_version": "1.2.0",
            "_view_name": "StyleView",
            "bar_color": null,
            "description_width": ""
          }
        },
        "7d6764d169b7477d9ad40d6d8363e7a3": {
          "model_module": "@jupyter-widgets/base",
          "model_name": "LayoutModel",
          "model_module_version": "1.2.0",
          "state": {
            "_model_module": "@jupyter-widgets/base",
            "_model_module_version": "1.2.0",
            "_model_name": "LayoutModel",
            "_view_count": null,
            "_view_module": "@jupyter-widgets/base",
            "_view_module_version": "1.2.0",
            "_view_name": "LayoutView",
            "align_content": null,
            "align_items": null,
            "align_self": null,
            "border": null,
            "bottom": null,
            "display": null,
            "flex": null,
            "flex_flow": null,
            "grid_area": null,
            "grid_auto_columns": null,
            "grid_auto_flow": null,
            "grid_auto_rows": null,
            "grid_column": null,
            "grid_gap": null,
            "grid_row": null,
            "grid_template_areas": null,
            "grid_template_columns": null,
            "grid_template_rows": null,
            "height": null,
            "justify_content": null,
            "justify_items": null,
            "left": null,
            "margin": null,
            "max_height": null,
            "max_width": null,
            "min_height": null,
            "min_width": null,
            "object_fit": null,
            "object_position": null,
            "order": null,
            "overflow": null,
            "overflow_x": null,
            "overflow_y": null,
            "padding": null,
            "right": null,
            "top": null,
            "visibility": null,
            "width": null
          }
        },
        "b17d569cdb5a4901a4caf8fdb7b4db21": {
          "model_module": "@jupyter-widgets/controls",
          "model_name": "DescriptionStyleModel",
          "model_module_version": "1.5.0",
          "state": {
            "_model_module": "@jupyter-widgets/controls",
            "_model_module_version": "1.5.0",
            "_model_name": "DescriptionStyleModel",
            "_view_count": null,
            "_view_module": "@jupyter-widgets/base",
            "_view_module_version": "1.2.0",
            "_view_name": "StyleView",
            "description_width": ""
          }
        },
        "169bd0e6100c4d9487d72de937834a24": {
          "model_module": "@jupyter-widgets/controls",
          "model_name": "HBoxModel",
          "model_module_version": "1.5.0",
          "state": {
            "_dom_classes": [],
            "_model_module": "@jupyter-widgets/controls",
            "_model_module_version": "1.5.0",
            "_model_name": "HBoxModel",
            "_view_count": null,
            "_view_module": "@jupyter-widgets/controls",
            "_view_module_version": "1.5.0",
            "_view_name": "HBoxView",
            "box_style": "",
            "children": [
              "IPY_MODEL_04ae175c6ba54822bf0cc86f0768c696",
              "IPY_MODEL_51ac3bd0690847c0a3919f547398fbfa",
              "IPY_MODEL_ef9b921d15d04c1bb76db53fa89817ac"
            ],
            "layout": "IPY_MODEL_fd85416943cb4acda8fece5d22a0215c"
          }
        },
        "04ae175c6ba54822bf0cc86f0768c696": {
          "model_module": "@jupyter-widgets/controls",
          "model_name": "HTMLModel",
          "model_module_version": "1.5.0",
          "state": {
            "_dom_classes": [],
            "_model_module": "@jupyter-widgets/controls",
            "_model_module_version": "1.5.0",
            "_model_name": "HTMLModel",
            "_view_count": null,
            "_view_module": "@jupyter-widgets/controls",
            "_view_module_version": "1.5.0",
            "_view_name": "HTMLView",
            "description": "",
            "description_tooltip": null,
            "layout": "IPY_MODEL_fd7de070b1ed4261928a75de5b721508",
            "placeholder": "​",
            "style": "IPY_MODEL_318f4d20de204eb094593d9fa1056e25",
            "value": "vocab.json: 100%"
          }
        },
        "51ac3bd0690847c0a3919f547398fbfa": {
          "model_module": "@jupyter-widgets/controls",
          "model_name": "FloatProgressModel",
          "model_module_version": "1.5.0",
          "state": {
            "_dom_classes": [],
            "_model_module": "@jupyter-widgets/controls",
            "_model_module_version": "1.5.0",
            "_model_name": "FloatProgressModel",
            "_view_count": null,
            "_view_module": "@jupyter-widgets/controls",
            "_view_module_version": "1.5.0",
            "_view_name": "ProgressView",
            "bar_style": "success",
            "description": "",
            "description_tooltip": null,
            "layout": "IPY_MODEL_e9f9c42828fa4e4aaa95f933b84bb0a5",
            "max": 1452741,
            "min": 0,
            "orientation": "horizontal",
            "style": "IPY_MODEL_c586100cc9a6454eb0c44341e3b7cca5",
            "value": 1452741
          }
        },
        "ef9b921d15d04c1bb76db53fa89817ac": {
          "model_module": "@jupyter-widgets/controls",
          "model_name": "HTMLModel",
          "model_module_version": "1.5.0",
          "state": {
            "_dom_classes": [],
            "_model_module": "@jupyter-widgets/controls",
            "_model_module_version": "1.5.0",
            "_model_name": "HTMLModel",
            "_view_count": null,
            "_view_module": "@jupyter-widgets/controls",
            "_view_module_version": "1.5.0",
            "_view_name": "HTMLView",
            "description": "",
            "description_tooltip": null,
            "layout": "IPY_MODEL_ad344866c4ff478fa2a1a25fc83a3a5f",
            "placeholder": "​",
            "style": "IPY_MODEL_388d444a66b541928a3187f3b96e2007",
            "value": " 1.45M/1.45M [00:00&lt;00:00, 5.55MB/s]"
          }
        },
        "fd85416943cb4acda8fece5d22a0215c": {
          "model_module": "@jupyter-widgets/base",
          "model_name": "LayoutModel",
          "model_module_version": "1.2.0",
          "state": {
            "_model_module": "@jupyter-widgets/base",
            "_model_module_version": "1.2.0",
            "_model_name": "LayoutModel",
            "_view_count": null,
            "_view_module": "@jupyter-widgets/base",
            "_view_module_version": "1.2.0",
            "_view_name": "LayoutView",
            "align_content": null,
            "align_items": null,
            "align_self": null,
            "border": null,
            "bottom": null,
            "display": null,
            "flex": null,
            "flex_flow": null,
            "grid_area": null,
            "grid_auto_columns": null,
            "grid_auto_flow": null,
            "grid_auto_rows": null,
            "grid_column": null,
            "grid_gap": null,
            "grid_row": null,
            "grid_template_areas": null,
            "grid_template_columns": null,
            "grid_template_rows": null,
            "height": null,
            "justify_content": null,
            "justify_items": null,
            "left": null,
            "margin": null,
            "max_height": null,
            "max_width": null,
            "min_height": null,
            "min_width": null,
            "object_fit": null,
            "object_position": null,
            "order": null,
            "overflow": null,
            "overflow_x": null,
            "overflow_y": null,
            "padding": null,
            "right": null,
            "top": null,
            "visibility": null,
            "width": null
          }
        },
        "fd7de070b1ed4261928a75de5b721508": {
          "model_module": "@jupyter-widgets/base",
          "model_name": "LayoutModel",
          "model_module_version": "1.2.0",
          "state": {
            "_model_module": "@jupyter-widgets/base",
            "_model_module_version": "1.2.0",
            "_model_name": "LayoutModel",
            "_view_count": null,
            "_view_module": "@jupyter-widgets/base",
            "_view_module_version": "1.2.0",
            "_view_name": "LayoutView",
            "align_content": null,
            "align_items": null,
            "align_self": null,
            "border": null,
            "bottom": null,
            "display": null,
            "flex": null,
            "flex_flow": null,
            "grid_area": null,
            "grid_auto_columns": null,
            "grid_auto_flow": null,
            "grid_auto_rows": null,
            "grid_column": null,
            "grid_gap": null,
            "grid_row": null,
            "grid_template_areas": null,
            "grid_template_columns": null,
            "grid_template_rows": null,
            "height": null,
            "justify_content": null,
            "justify_items": null,
            "left": null,
            "margin": null,
            "max_height": null,
            "max_width": null,
            "min_height": null,
            "min_width": null,
            "object_fit": null,
            "object_position": null,
            "order": null,
            "overflow": null,
            "overflow_x": null,
            "overflow_y": null,
            "padding": null,
            "right": null,
            "top": null,
            "visibility": null,
            "width": null
          }
        },
        "318f4d20de204eb094593d9fa1056e25": {
          "model_module": "@jupyter-widgets/controls",
          "model_name": "DescriptionStyleModel",
          "model_module_version": "1.5.0",
          "state": {
            "_model_module": "@jupyter-widgets/controls",
            "_model_module_version": "1.5.0",
            "_model_name": "DescriptionStyleModel",
            "_view_count": null,
            "_view_module": "@jupyter-widgets/base",
            "_view_module_version": "1.2.0",
            "_view_name": "StyleView",
            "description_width": ""
          }
        },
        "e9f9c42828fa4e4aaa95f933b84bb0a5": {
          "model_module": "@jupyter-widgets/base",
          "model_name": "LayoutModel",
          "model_module_version": "1.2.0",
          "state": {
            "_model_module": "@jupyter-widgets/base",
            "_model_module_version": "1.2.0",
            "_model_name": "LayoutModel",
            "_view_count": null,
            "_view_module": "@jupyter-widgets/base",
            "_view_module_version": "1.2.0",
            "_view_name": "LayoutView",
            "align_content": null,
            "align_items": null,
            "align_self": null,
            "border": null,
            "bottom": null,
            "display": null,
            "flex": null,
            "flex_flow": null,
            "grid_area": null,
            "grid_auto_columns": null,
            "grid_auto_flow": null,
            "grid_auto_rows": null,
            "grid_column": null,
            "grid_gap": null,
            "grid_row": null,
            "grid_template_areas": null,
            "grid_template_columns": null,
            "grid_template_rows": null,
            "height": null,
            "justify_content": null,
            "justify_items": null,
            "left": null,
            "margin": null,
            "max_height": null,
            "max_width": null,
            "min_height": null,
            "min_width": null,
            "object_fit": null,
            "object_position": null,
            "order": null,
            "overflow": null,
            "overflow_x": null,
            "overflow_y": null,
            "padding": null,
            "right": null,
            "top": null,
            "visibility": null,
            "width": null
          }
        },
        "c586100cc9a6454eb0c44341e3b7cca5": {
          "model_module": "@jupyter-widgets/controls",
          "model_name": "ProgressStyleModel",
          "model_module_version": "1.5.0",
          "state": {
            "_model_module": "@jupyter-widgets/controls",
            "_model_module_version": "1.5.0",
            "_model_name": "ProgressStyleModel",
            "_view_count": null,
            "_view_module": "@jupyter-widgets/base",
            "_view_module_version": "1.2.0",
            "_view_name": "StyleView",
            "bar_color": null,
            "description_width": ""
          }
        },
        "ad344866c4ff478fa2a1a25fc83a3a5f": {
          "model_module": "@jupyter-widgets/base",
          "model_name": "LayoutModel",
          "model_module_version": "1.2.0",
          "state": {
            "_model_module": "@jupyter-widgets/base",
            "_model_module_version": "1.2.0",
            "_model_name": "LayoutModel",
            "_view_count": null,
            "_view_module": "@jupyter-widgets/base",
            "_view_module_version": "1.2.0",
            "_view_name": "LayoutView",
            "align_content": null,
            "align_items": null,
            "align_self": null,
            "border": null,
            "bottom": null,
            "display": null,
            "flex": null,
            "flex_flow": null,
            "grid_area": null,
            "grid_auto_columns": null,
            "grid_auto_flow": null,
            "grid_auto_rows": null,
            "grid_column": null,
            "grid_gap": null,
            "grid_row": null,
            "grid_template_areas": null,
            "grid_template_columns": null,
            "grid_template_rows": null,
            "height": null,
            "justify_content": null,
            "justify_items": null,
            "left": null,
            "margin": null,
            "max_height": null,
            "max_width": null,
            "min_height": null,
            "min_width": null,
            "object_fit": null,
            "object_position": null,
            "order": null,
            "overflow": null,
            "overflow_x": null,
            "overflow_y": null,
            "padding": null,
            "right": null,
            "top": null,
            "visibility": null,
            "width": null
          }
        },
        "388d444a66b541928a3187f3b96e2007": {
          "model_module": "@jupyter-widgets/controls",
          "model_name": "DescriptionStyleModel",
          "model_module_version": "1.5.0",
          "state": {
            "_model_module": "@jupyter-widgets/controls",
            "_model_module_version": "1.5.0",
            "_model_name": "DescriptionStyleModel",
            "_view_count": null,
            "_view_module": "@jupyter-widgets/base",
            "_view_module_version": "1.2.0",
            "_view_name": "StyleView",
            "description_width": ""
          }
        },
        "dc61f89afc8247158755a1cf4883023f": {
          "model_module": "@jupyter-widgets/controls",
          "model_name": "HBoxModel",
          "model_module_version": "1.5.0",
          "state": {
            "_dom_classes": [],
            "_model_module": "@jupyter-widgets/controls",
            "_model_module_version": "1.5.0",
            "_model_name": "HBoxModel",
            "_view_count": null,
            "_view_module": "@jupyter-widgets/controls",
            "_view_module_version": "1.5.0",
            "_view_name": "HBoxView",
            "box_style": "",
            "children": [
              "IPY_MODEL_93df6ba717d44d8f8b5e4307c57c1dd4",
              "IPY_MODEL_ba6d2fb5d2944cc6a82468d3e8a04147",
              "IPY_MODEL_723905e723424dedba9fa763305b8b1e"
            ],
            "layout": "IPY_MODEL_5c0e197959cf4c36aa1838c6454d6e33"
          }
        },
        "93df6ba717d44d8f8b5e4307c57c1dd4": {
          "model_module": "@jupyter-widgets/controls",
          "model_name": "HTMLModel",
          "model_module_version": "1.5.0",
          "state": {
            "_dom_classes": [],
            "_model_module": "@jupyter-widgets/controls",
            "_model_module_version": "1.5.0",
            "_model_name": "HTMLModel",
            "_view_count": null,
            "_view_module": "@jupyter-widgets/controls",
            "_view_module_version": "1.5.0",
            "_view_name": "HTMLView",
            "description": "",
            "description_tooltip": null,
            "layout": "IPY_MODEL_1787e4526cbb4abc895e34613177d281",
            "placeholder": "​",
            "style": "IPY_MODEL_a437fc43351e45129ba0226fa6cad01a",
            "value": "merges.txt: 100%"
          }
        },
        "ba6d2fb5d2944cc6a82468d3e8a04147": {
          "model_module": "@jupyter-widgets/controls",
          "model_name": "FloatProgressModel",
          "model_module_version": "1.5.0",
          "state": {
            "_dom_classes": [],
            "_model_module": "@jupyter-widgets/controls",
            "_model_module_version": "1.5.0",
            "_model_name": "FloatProgressModel",
            "_view_count": null,
            "_view_module": "@jupyter-widgets/controls",
            "_view_module_version": "1.5.0",
            "_view_name": "ProgressView",
            "bar_style": "success",
            "description": "",
            "description_tooltip": null,
            "layout": "IPY_MODEL_909b72c65b0e4fcf827820f69eee4da1",
            "max": 1008321,
            "min": 0,
            "orientation": "horizontal",
            "style": "IPY_MODEL_ef1f8ef488824096ab91e18c45acb13c",
            "value": 1008321
          }
        },
        "723905e723424dedba9fa763305b8b1e": {
          "model_module": "@jupyter-widgets/controls",
          "model_name": "HTMLModel",
          "model_module_version": "1.5.0",
          "state": {
            "_dom_classes": [],
            "_model_module": "@jupyter-widgets/controls",
            "_model_module_version": "1.5.0",
            "_model_name": "HTMLModel",
            "_view_count": null,
            "_view_module": "@jupyter-widgets/controls",
            "_view_module_version": "1.5.0",
            "_view_name": "HTMLView",
            "description": "",
            "description_tooltip": null,
            "layout": "IPY_MODEL_be9f9497db6a42f09cd3f4858f93b4dc",
            "placeholder": "​",
            "style": "IPY_MODEL_7ae05eccb91e458abea84445fac41059",
            "value": " 1.01M/1.01M [00:00&lt;00:00, 4.03MB/s]"
          }
        },
        "5c0e197959cf4c36aa1838c6454d6e33": {
          "model_module": "@jupyter-widgets/base",
          "model_name": "LayoutModel",
          "model_module_version": "1.2.0",
          "state": {
            "_model_module": "@jupyter-widgets/base",
            "_model_module_version": "1.2.0",
            "_model_name": "LayoutModel",
            "_view_count": null,
            "_view_module": "@jupyter-widgets/base",
            "_view_module_version": "1.2.0",
            "_view_name": "LayoutView",
            "align_content": null,
            "align_items": null,
            "align_self": null,
            "border": null,
            "bottom": null,
            "display": null,
            "flex": null,
            "flex_flow": null,
            "grid_area": null,
            "grid_auto_columns": null,
            "grid_auto_flow": null,
            "grid_auto_rows": null,
            "grid_column": null,
            "grid_gap": null,
            "grid_row": null,
            "grid_template_areas": null,
            "grid_template_columns": null,
            "grid_template_rows": null,
            "height": null,
            "justify_content": null,
            "justify_items": null,
            "left": null,
            "margin": null,
            "max_height": null,
            "max_width": null,
            "min_height": null,
            "min_width": null,
            "object_fit": null,
            "object_position": null,
            "order": null,
            "overflow": null,
            "overflow_x": null,
            "overflow_y": null,
            "padding": null,
            "right": null,
            "top": null,
            "visibility": null,
            "width": null
          }
        },
        "1787e4526cbb4abc895e34613177d281": {
          "model_module": "@jupyter-widgets/base",
          "model_name": "LayoutModel",
          "model_module_version": "1.2.0",
          "state": {
            "_model_module": "@jupyter-widgets/base",
            "_model_module_version": "1.2.0",
            "_model_name": "LayoutModel",
            "_view_count": null,
            "_view_module": "@jupyter-widgets/base",
            "_view_module_version": "1.2.0",
            "_view_name": "LayoutView",
            "align_content": null,
            "align_items": null,
            "align_self": null,
            "border": null,
            "bottom": null,
            "display": null,
            "flex": null,
            "flex_flow": null,
            "grid_area": null,
            "grid_auto_columns": null,
            "grid_auto_flow": null,
            "grid_auto_rows": null,
            "grid_column": null,
            "grid_gap": null,
            "grid_row": null,
            "grid_template_areas": null,
            "grid_template_columns": null,
            "grid_template_rows": null,
            "height": null,
            "justify_content": null,
            "justify_items": null,
            "left": null,
            "margin": null,
            "max_height": null,
            "max_width": null,
            "min_height": null,
            "min_width": null,
            "object_fit": null,
            "object_position": null,
            "order": null,
            "overflow": null,
            "overflow_x": null,
            "overflow_y": null,
            "padding": null,
            "right": null,
            "top": null,
            "visibility": null,
            "width": null
          }
        },
        "a437fc43351e45129ba0226fa6cad01a": {
          "model_module": "@jupyter-widgets/controls",
          "model_name": "DescriptionStyleModel",
          "model_module_version": "1.5.0",
          "state": {
            "_model_module": "@jupyter-widgets/controls",
            "_model_module_version": "1.5.0",
            "_model_name": "DescriptionStyleModel",
            "_view_count": null,
            "_view_module": "@jupyter-widgets/base",
            "_view_module_version": "1.2.0",
            "_view_name": "StyleView",
            "description_width": ""
          }
        },
        "909b72c65b0e4fcf827820f69eee4da1": {
          "model_module": "@jupyter-widgets/base",
          "model_name": "LayoutModel",
          "model_module_version": "1.2.0",
          "state": {
            "_model_module": "@jupyter-widgets/base",
            "_model_module_version": "1.2.0",
            "_model_name": "LayoutModel",
            "_view_count": null,
            "_view_module": "@jupyter-widgets/base",
            "_view_module_version": "1.2.0",
            "_view_name": "LayoutView",
            "align_content": null,
            "align_items": null,
            "align_self": null,
            "border": null,
            "bottom": null,
            "display": null,
            "flex": null,
            "flex_flow": null,
            "grid_area": null,
            "grid_auto_columns": null,
            "grid_auto_flow": null,
            "grid_auto_rows": null,
            "grid_column": null,
            "grid_gap": null,
            "grid_row": null,
            "grid_template_areas": null,
            "grid_template_columns": null,
            "grid_template_rows": null,
            "height": null,
            "justify_content": null,
            "justify_items": null,
            "left": null,
            "margin": null,
            "max_height": null,
            "max_width": null,
            "min_height": null,
            "min_width": null,
            "object_fit": null,
            "object_position": null,
            "order": null,
            "overflow": null,
            "overflow_x": null,
            "overflow_y": null,
            "padding": null,
            "right": null,
            "top": null,
            "visibility": null,
            "width": null
          }
        },
        "ef1f8ef488824096ab91e18c45acb13c": {
          "model_module": "@jupyter-widgets/controls",
          "model_name": "ProgressStyleModel",
          "model_module_version": "1.5.0",
          "state": {
            "_model_module": "@jupyter-widgets/controls",
            "_model_module_version": "1.5.0",
            "_model_name": "ProgressStyleModel",
            "_view_count": null,
            "_view_module": "@jupyter-widgets/base",
            "_view_module_version": "1.2.0",
            "_view_name": "StyleView",
            "bar_color": null,
            "description_width": ""
          }
        },
        "be9f9497db6a42f09cd3f4858f93b4dc": {
          "model_module": "@jupyter-widgets/base",
          "model_name": "LayoutModel",
          "model_module_version": "1.2.0",
          "state": {
            "_model_module": "@jupyter-widgets/base",
            "_model_module_version": "1.2.0",
            "_model_name": "LayoutModel",
            "_view_count": null,
            "_view_module": "@jupyter-widgets/base",
            "_view_module_version": "1.2.0",
            "_view_name": "LayoutView",
            "align_content": null,
            "align_items": null,
            "align_self": null,
            "border": null,
            "bottom": null,
            "display": null,
            "flex": null,
            "flex_flow": null,
            "grid_area": null,
            "grid_auto_columns": null,
            "grid_auto_flow": null,
            "grid_auto_rows": null,
            "grid_column": null,
            "grid_gap": null,
            "grid_row": null,
            "grid_template_areas": null,
            "grid_template_columns": null,
            "grid_template_rows": null,
            "height": null,
            "justify_content": null,
            "justify_items": null,
            "left": null,
            "margin": null,
            "max_height": null,
            "max_width": null,
            "min_height": null,
            "min_width": null,
            "object_fit": null,
            "object_position": null,
            "order": null,
            "overflow": null,
            "overflow_x": null,
            "overflow_y": null,
            "padding": null,
            "right": null,
            "top": null,
            "visibility": null,
            "width": null
          }
        },
        "7ae05eccb91e458abea84445fac41059": {
          "model_module": "@jupyter-widgets/controls",
          "model_name": "DescriptionStyleModel",
          "model_module_version": "1.5.0",
          "state": {
            "_model_module": "@jupyter-widgets/controls",
            "_model_module_version": "1.5.0",
            "_model_name": "DescriptionStyleModel",
            "_view_count": null,
            "_view_module": "@jupyter-widgets/base",
            "_view_module_version": "1.2.0",
            "_view_name": "StyleView",
            "description_width": ""
          }
        },
        "0f94e426a983463d8783abdba21100d6": {
          "model_module": "@jupyter-widgets/controls",
          "model_name": "HBoxModel",
          "model_module_version": "1.5.0",
          "state": {
            "_dom_classes": [],
            "_model_module": "@jupyter-widgets/controls",
            "_model_module_version": "1.5.0",
            "_model_name": "HBoxModel",
            "_view_count": null,
            "_view_module": "@jupyter-widgets/controls",
            "_view_module_version": "1.5.0",
            "_view_name": "HBoxView",
            "box_style": "",
            "children": [
              "IPY_MODEL_30ff88e46fe34af083601b2cd68904c5",
              "IPY_MODEL_843421fa5b934849aa78c4192a8f9f3f",
              "IPY_MODEL_58ee0eb3705248dda9b8c4ce84c02985"
            ],
            "layout": "IPY_MODEL_3d7dd34974e74b059576f2ad37767c76"
          }
        },
        "30ff88e46fe34af083601b2cd68904c5": {
          "model_module": "@jupyter-widgets/controls",
          "model_name": "HTMLModel",
          "model_module_version": "1.5.0",
          "state": {
            "_dom_classes": [],
            "_model_module": "@jupyter-widgets/controls",
            "_model_module_version": "1.5.0",
            "_model_name": "HTMLModel",
            "_view_count": null,
            "_view_module": "@jupyter-widgets/controls",
            "_view_module_version": "1.5.0",
            "_view_name": "HTMLView",
            "description": "",
            "description_tooltip": null,
            "layout": "IPY_MODEL_75821beef42e40a7a7d9a8500d5f0d2a",
            "placeholder": "​",
            "style": "IPY_MODEL_d9e33ced769f4746bae9586891591e79",
            "value": "config.json: 100%"
          }
        },
        "843421fa5b934849aa78c4192a8f9f3f": {
          "model_module": "@jupyter-widgets/controls",
          "model_name": "FloatProgressModel",
          "model_module_version": "1.5.0",
          "state": {
            "_dom_classes": [],
            "_model_module": "@jupyter-widgets/controls",
            "_model_module_version": "1.5.0",
            "_model_name": "FloatProgressModel",
            "_view_count": null,
            "_view_module": "@jupyter-widgets/controls",
            "_view_module_version": "1.5.0",
            "_view_name": "ProgressView",
            "bar_style": "success",
            "description": "",
            "description_tooltip": null,
            "layout": "IPY_MODEL_e644cf5f76814c25a6f46d9a6bddf8cb",
            "max": 1020,
            "min": 0,
            "orientation": "horizontal",
            "style": "IPY_MODEL_dc38b0ba61fd457c9f54510ebab82392",
            "value": 1020
          }
        },
        "58ee0eb3705248dda9b8c4ce84c02985": {
          "model_module": "@jupyter-widgets/controls",
          "model_name": "HTMLModel",
          "model_module_version": "1.5.0",
          "state": {
            "_dom_classes": [],
            "_model_module": "@jupyter-widgets/controls",
            "_model_module_version": "1.5.0",
            "_model_name": "HTMLModel",
            "_view_count": null,
            "_view_module": "@jupyter-widgets/controls",
            "_view_module_version": "1.5.0",
            "_view_name": "HTMLView",
            "description": "",
            "description_tooltip": null,
            "layout": "IPY_MODEL_3cd28a2420324a37bf0d52ec3f0ab356",
            "placeholder": "​",
            "style": "IPY_MODEL_81b7cd0dd89d4f2ca1f85b1393a717db",
            "value": " 1.02k/1.02k [00:00&lt;00:00, 39.8kB/s]"
          }
        },
        "3d7dd34974e74b059576f2ad37767c76": {
          "model_module": "@jupyter-widgets/base",
          "model_name": "LayoutModel",
          "model_module_version": "1.2.0",
          "state": {
            "_model_module": "@jupyter-widgets/base",
            "_model_module_version": "1.2.0",
            "_model_name": "LayoutModel",
            "_view_count": null,
            "_view_module": "@jupyter-widgets/base",
            "_view_module_version": "1.2.0",
            "_view_name": "LayoutView",
            "align_content": null,
            "align_items": null,
            "align_self": null,
            "border": null,
            "bottom": null,
            "display": null,
            "flex": null,
            "flex_flow": null,
            "grid_area": null,
            "grid_auto_columns": null,
            "grid_auto_flow": null,
            "grid_auto_rows": null,
            "grid_column": null,
            "grid_gap": null,
            "grid_row": null,
            "grid_template_areas": null,
            "grid_template_columns": null,
            "grid_template_rows": null,
            "height": null,
            "justify_content": null,
            "justify_items": null,
            "left": null,
            "margin": null,
            "max_height": null,
            "max_width": null,
            "min_height": null,
            "min_width": null,
            "object_fit": null,
            "object_position": null,
            "order": null,
            "overflow": null,
            "overflow_x": null,
            "overflow_y": null,
            "padding": null,
            "right": null,
            "top": null,
            "visibility": null,
            "width": null
          }
        },
        "75821beef42e40a7a7d9a8500d5f0d2a": {
          "model_module": "@jupyter-widgets/base",
          "model_name": "LayoutModel",
          "model_module_version": "1.2.0",
          "state": {
            "_model_module": "@jupyter-widgets/base",
            "_model_module_version": "1.2.0",
            "_model_name": "LayoutModel",
            "_view_count": null,
            "_view_module": "@jupyter-widgets/base",
            "_view_module_version": "1.2.0",
            "_view_name": "LayoutView",
            "align_content": null,
            "align_items": null,
            "align_self": null,
            "border": null,
            "bottom": null,
            "display": null,
            "flex": null,
            "flex_flow": null,
            "grid_area": null,
            "grid_auto_columns": null,
            "grid_auto_flow": null,
            "grid_auto_rows": null,
            "grid_column": null,
            "grid_gap": null,
            "grid_row": null,
            "grid_template_areas": null,
            "grid_template_columns": null,
            "grid_template_rows": null,
            "height": null,
            "justify_content": null,
            "justify_items": null,
            "left": null,
            "margin": null,
            "max_height": null,
            "max_width": null,
            "min_height": null,
            "min_width": null,
            "object_fit": null,
            "object_position": null,
            "order": null,
            "overflow": null,
            "overflow_x": null,
            "overflow_y": null,
            "padding": null,
            "right": null,
            "top": null,
            "visibility": null,
            "width": null
          }
        },
        "d9e33ced769f4746bae9586891591e79": {
          "model_module": "@jupyter-widgets/controls",
          "model_name": "DescriptionStyleModel",
          "model_module_version": "1.5.0",
          "state": {
            "_model_module": "@jupyter-widgets/controls",
            "_model_module_version": "1.5.0",
            "_model_name": "DescriptionStyleModel",
            "_view_count": null,
            "_view_module": "@jupyter-widgets/base",
            "_view_module_version": "1.2.0",
            "_view_name": "StyleView",
            "description_width": ""
          }
        },
        "e644cf5f76814c25a6f46d9a6bddf8cb": {
          "model_module": "@jupyter-widgets/base",
          "model_name": "LayoutModel",
          "model_module_version": "1.2.0",
          "state": {
            "_model_module": "@jupyter-widgets/base",
            "_model_module_version": "1.2.0",
            "_model_name": "LayoutModel",
            "_view_count": null,
            "_view_module": "@jupyter-widgets/base",
            "_view_module_version": "1.2.0",
            "_view_name": "LayoutView",
            "align_content": null,
            "align_items": null,
            "align_self": null,
            "border": null,
            "bottom": null,
            "display": null,
            "flex": null,
            "flex_flow": null,
            "grid_area": null,
            "grid_auto_columns": null,
            "grid_auto_flow": null,
            "grid_auto_rows": null,
            "grid_column": null,
            "grid_gap": null,
            "grid_row": null,
            "grid_template_areas": null,
            "grid_template_columns": null,
            "grid_template_rows": null,
            "height": null,
            "justify_content": null,
            "justify_items": null,
            "left": null,
            "margin": null,
            "max_height": null,
            "max_width": null,
            "min_height": null,
            "min_width": null,
            "object_fit": null,
            "object_position": null,
            "order": null,
            "overflow": null,
            "overflow_x": null,
            "overflow_y": null,
            "padding": null,
            "right": null,
            "top": null,
            "visibility": null,
            "width": null
          }
        },
        "dc38b0ba61fd457c9f54510ebab82392": {
          "model_module": "@jupyter-widgets/controls",
          "model_name": "ProgressStyleModel",
          "model_module_version": "1.5.0",
          "state": {
            "_model_module": "@jupyter-widgets/controls",
            "_model_module_version": "1.5.0",
            "_model_name": "ProgressStyleModel",
            "_view_count": null,
            "_view_module": "@jupyter-widgets/base",
            "_view_module_version": "1.2.0",
            "_view_name": "StyleView",
            "bar_color": null,
            "description_width": ""
          }
        },
        "3cd28a2420324a37bf0d52ec3f0ab356": {
          "model_module": "@jupyter-widgets/base",
          "model_name": "LayoutModel",
          "model_module_version": "1.2.0",
          "state": {
            "_model_module": "@jupyter-widgets/base",
            "_model_module_version": "1.2.0",
            "_model_name": "LayoutModel",
            "_view_count": null,
            "_view_module": "@jupyter-widgets/base",
            "_view_module_version": "1.2.0",
            "_view_name": "LayoutView",
            "align_content": null,
            "align_items": null,
            "align_self": null,
            "border": null,
            "bottom": null,
            "display": null,
            "flex": null,
            "flex_flow": null,
            "grid_area": null,
            "grid_auto_columns": null,
            "grid_auto_flow": null,
            "grid_auto_rows": null,
            "grid_column": null,
            "grid_gap": null,
            "grid_row": null,
            "grid_template_areas": null,
            "grid_template_columns": null,
            "grid_template_rows": null,
            "height": null,
            "justify_content": null,
            "justify_items": null,
            "left": null,
            "margin": null,
            "max_height": null,
            "max_width": null,
            "min_height": null,
            "min_width": null,
            "object_fit": null,
            "object_position": null,
            "order": null,
            "overflow": null,
            "overflow_x": null,
            "overflow_y": null,
            "padding": null,
            "right": null,
            "top": null,
            "visibility": null,
            "width": null
          }
        },
        "81b7cd0dd89d4f2ca1f85b1393a717db": {
          "model_module": "@jupyter-widgets/controls",
          "model_name": "DescriptionStyleModel",
          "model_module_version": "1.5.0",
          "state": {
            "_model_module": "@jupyter-widgets/controls",
            "_model_module_version": "1.5.0",
            "_model_name": "DescriptionStyleModel",
            "_view_count": null,
            "_view_module": "@jupyter-widgets/base",
            "_view_module_version": "1.2.0",
            "_view_name": "StyleView",
            "description_width": ""
          }
        }
      }
    }
  },
  "cells": [
    {
      "cell_type": "markdown",
      "metadata": {
        "id": "view-in-github",
        "colab_type": "text"
      },
      "source": [
        "<a href=\"https://colab.research.google.com/github/hvmdvvn/Transformer-From-Scratch/blob/main/Transformer_Architecture_from_Scratch_And_Translation_From_English_to_French.ipynb\" target=\"_parent\"><img src=\"https://colab.research.google.com/assets/colab-badge.svg\" alt=\"Open In Colab\"/></a>"
      ]
    },
    {
      "cell_type": "code",
      "source": [
        "from copy import deepcopy\n",
        "import torch.nn as nn\n",
        "import math\n",
        "import torch"
      ],
      "metadata": {
        "id": "4rv3e3sN4Lrf"
      },
      "execution_count": null,
      "outputs": []
    },
    {
      "cell_type": "code",
      "execution_count": null,
      "metadata": {
        "id": "wkMNdrvH3WvQ"
      },
      "outputs": [],
      "source": [
        "def attention(query, key, value, mask=None, dropout=None):\n",
        "    d_k = query.size(-1)\n",
        "    scores = torch.matmul(query,\n",
        "              key.transpose(-2, -1)) / math.sqrt(d_k)\n",
        "    if mask is not None:\n",
        "        scores = scores.masked_fill(mask == 0, -1e9)\n",
        "    p_attn = nn.functional.softmax(scores, dim=-1)\n",
        "    if dropout is not None:\n",
        "        p_attn = dropout(p_attn)\n",
        "    return torch.matmul(p_attn, value), p_attn"
      ]
    },
    {
      "cell_type": "code",
      "source": [
        "class MultiHeadedAttention(nn.Module):\n",
        "    def __init__(self, h, d_model, dropout=0.1):\n",
        "        super().__init__()\n",
        "        assert d_model % h == 0\n",
        "        self.d_k = d_model // h\n",
        "        self.h = h\n",
        "        self.linears = nn.ModuleList([deepcopy(\n",
        "            nn.Linear(d_model, d_model)) for i in range(4)])\n",
        "        self.attn = None\n",
        "        self.dropout = nn.Dropout(p=dropout)\n",
        "\n",
        "    def forward(self, query, key, value, mask=None):\n",
        "        if mask is not None:\n",
        "            mask = mask.unsqueeze(1)\n",
        "        nbatches = query.size(0)\n",
        "        query, key, value = [l(x).view(nbatches, -1, self.h,\n",
        "           self.d_k).transpose(1, 2)\n",
        "         for l, x in zip(self.linears, (query, key, value))]\n",
        "        x, self.attn = attention(\n",
        "            query, key, value, mask=mask, dropout=self.dropout)\n",
        "        x = x.transpose(1, 2).contiguous().view(\n",
        "            nbatches, -1, self.h * self.d_k)\n",
        "        output = self.linears[-1](x)\n",
        "        return output"
      ],
      "metadata": {
        "id": "oaUR2u434JxQ"
      },
      "execution_count": null,
      "outputs": []
    },
    {
      "cell_type": "code",
      "source": [
        "class PositionwiseFeedForward(nn.Module):\n",
        "    def __init__(self, d_model, d_ff, dropout=0.1):\n",
        "        super().__init__()\n",
        "        self.w_1 = nn.Linear(d_model, d_ff)\n",
        "        self.w_2 = nn.Linear(d_ff, d_model)\n",
        "        self.dropout = nn.Dropout(dropout)\n",
        "\n",
        "    def forward(self, x):\n",
        "        h1 = self.w_1(x)\n",
        "        h2 = self.dropout(h1)\n",
        "        return self.w_2(h2)"
      ],
      "metadata": {
        "id": "NTJDsKyL4Suc"
      },
      "execution_count": null,
      "outputs": []
    },
    {
      "cell_type": "code",
      "source": [
        "class EncoderLayer(nn.Module):\n",
        "    def __init__(self, size, self_attn, feed_forward, dropout):\n",
        "        super().__init__()\n",
        "        self.self_attn = self_attn\n",
        "        self.feed_forward = feed_forward\n",
        "        self.sublayer = nn.ModuleList([deepcopy(\n",
        "        SublayerConnection(size, dropout)) for i in range(2)])\n",
        "        self.size = size\n",
        "    def forward(self, x, mask):\n",
        "        x = self.sublayer[0](\n",
        "            x, lambda x: self.self_attn(x, x, x, mask))\n",
        "        output = self.sublayer[1](x, self.feed_forward)\n",
        "        return output"
      ],
      "metadata": {
        "id": "w9DRZdAq4g5K"
      },
      "execution_count": null,
      "outputs": []
    },
    {
      "cell_type": "code",
      "source": [
        "class SublayerConnection(nn.Module):\n",
        "    def __init__(self, size, dropout):\n",
        "        super().__init__()\n",
        "        self.norm = LayerNorm(size)\n",
        "        self.dropout = nn.Dropout(dropout)\n",
        "    def forward(self, x, sublayer):\n",
        "        output = x + self.dropout(sublayer(self.norm(x)))\n",
        "        return output"
      ],
      "metadata": {
        "id": "y6vhB2fm4jvv"
      },
      "execution_count": null,
      "outputs": []
    },
    {
      "cell_type": "code",
      "source": [
        "\n",
        "class LayerNorm(nn.Module):\n",
        "    def __init__(self, features, eps=1e-6):\n",
        "        super().__init__()\n",
        "        self.a_2 = nn.Parameter(torch.ones(features))\n",
        "        self.b_2 = nn.Parameter(torch.zeros(features))\n",
        "        self.eps = eps\n",
        "    def forward(self, x):\n",
        "        mean = x.mean(-1, keepdim=True)\n",
        "        std = x.std(-1, keepdim=True)\n",
        "        x_zscore = (x - mean) / torch.sqrt(std ** 2 + self.eps)\n",
        "        output = self.a_2*x_zscore+self.b_2\n",
        "        return output"
      ],
      "metadata": {
        "id": "rVLk4ymv4lsu"
      },
      "execution_count": null,
      "outputs": []
    },
    {
      "cell_type": "code",
      "source": [
        "class Encoder(nn.Module):\n",
        "    def __init__(self, layer, N):\n",
        "        super().__init__()\n",
        "        self.layers = nn.ModuleList(\n",
        "            [deepcopy(layer) for i in range(N)])\n",
        "        self.norm = LayerNorm(layer.size)\n",
        "\n",
        "    def forward(self, x, mask):\n",
        "        for layer in self.layers:\n",
        "            x = layer(x, mask)\n",
        "            output = self.norm(x)\n",
        "        return output"
      ],
      "metadata": {
        "id": "oxMmIf9U4njN"
      },
      "execution_count": null,
      "outputs": []
    },
    {
      "cell_type": "code",
      "source": [
        "class DecoderLayer(nn.Module):\n",
        "    def __init__(self, size, self_attn, src_attn,\n",
        "                 feed_forward, dropout):\n",
        "        super().__init__()\n",
        "        self.size = size\n",
        "        self.self_attn = self_attn\n",
        "        self.src_attn = src_attn\n",
        "        self.feed_forward = feed_forward\n",
        "        self.sublayer = nn.ModuleList([deepcopy(\n",
        "        SublayerConnection(size, dropout)) for i in range(3)])\n",
        "\n",
        "    def forward(self, x, memory, src_mask, tgt_mask):\n",
        "        x = self.sublayer[0](x, lambda x:\n",
        "                 self.self_attn(x, x, x, tgt_mask))\n",
        "        x = self.sublayer[1](x, lambda x:\n",
        "                 self.src_attn(x, memory, memory, src_mask))\n",
        "        output = self.sublayer[2](x, self.feed_forward)\n",
        "        return output"
      ],
      "metadata": {
        "id": "wAi8k9cV4r8d"
      },
      "execution_count": null,
      "outputs": []
    },
    {
      "cell_type": "code",
      "source": [
        "class Decoder(nn.Module):\n",
        "    def __init__(self, layer, N):\n",
        "        super().__init__()\n",
        "        self.layers = nn.ModuleList(\n",
        "            [deepcopy(layer) for i in range(N)])\n",
        "        self.norm = LayerNorm(layer.size)\n",
        "\n",
        "    def forward(self, x, memory, src_mask, tgt_mask):\n",
        "        for layer in self.layers:\n",
        "            x = layer(x, memory, src_mask, tgt_mask)\n",
        "        output = self.norm(x)\n",
        "        return output"
      ],
      "metadata": {
        "id": "E-_vOD-S4uJV"
      },
      "execution_count": null,
      "outputs": []
    },
    {
      "cell_type": "code",
      "source": [
        "class Transformer(nn.Module):\n",
        "    def __init__(self, encoder, decoder,\n",
        "                 src_embed, tgt_embed, generator):\n",
        "        super().__init__()\n",
        "        self.encoder = encoder\n",
        "        self.decoder = decoder\n",
        "        self.src_embed = src_embed\n",
        "        self.tgt_embed = tgt_embed\n",
        "        self.generator = generator\n",
        "\n",
        "    def encode(self, src, src_mask):\n",
        "        return self.encoder(self.src_embed(src), src_mask)\n",
        "\n",
        "    def decode(self, memory, src_mask, tgt, tgt_mask):\n",
        "        return self.decoder(self.tgt_embed(tgt),\n",
        "                            memory, src_mask, tgt_mask)\n",
        "\n",
        "    def forward(self, src, tgt, src_mask, tgt_mask):\n",
        "        memory = self.encode(src, src_mask)\n",
        "        output = self.decode(memory, src_mask, tgt, tgt_mask)\n",
        "        return output"
      ],
      "metadata": {
        "id": "maaVEJl04ytC"
      },
      "execution_count": null,
      "outputs": []
    },
    {
      "cell_type": "code",
      "source": [
        "class Generator(nn.Module):\n",
        "    def __init__(self, d_model, vocab):\n",
        "        super().__init__()\n",
        "        self.proj = nn.Linear(d_model, vocab)\n",
        "\n",
        "    def forward(self, x):\n",
        "        out = self.proj(x)\n",
        "        probs = nn.functional.log_softmax(out, dim=-1)\n",
        "        return probs"
      ],
      "metadata": {
        "id": "iQDGCX4Q41SK"
      },
      "execution_count": null,
      "outputs": []
    },
    {
      "cell_type": "code",
      "source": [
        "def create_model(src_vocab, tgt_vocab, N, d_model,\n",
        "                 d_ff, h, dropout=0.1):\n",
        "    attn=MultiHeadedAttention(h, d_model).to(DEVICE)\n",
        "    ff=PositionwiseFeedForward(d_model, d_ff, dropout).to(DEVICE)\n",
        "    pos=PositionalEncoding(d_model, dropout).to(DEVICE)\n",
        "    model = Transformer(\n",
        "        Encoder(EncoderLayer(d_model,deepcopy(attn),deepcopy(ff),\n",
        "                             dropout).to(DEVICE),N).to(DEVICE),\n",
        "        Decoder(DecoderLayer(d_model,deepcopy(attn),\n",
        "             deepcopy(attn),deepcopy(ff), dropout).to(DEVICE),\n",
        "                N).to(DEVICE),\n",
        "        nn.Sequential(Embeddings(d_model, src_vocab).to(DEVICE),\n",
        "                      deepcopy(pos)),\n",
        "        nn.Sequential(Embeddings(d_model, tgt_vocab).to(DEVICE),\n",
        "                      deepcopy(pos)),\n",
        "        Generator(d_model, tgt_vocab)).to(DEVICE)\n",
        "    for p in model.parameters():\n",
        "        if p.dim() > 1:\n",
        "            nn.init.xavier_uniform_(p)\n",
        "    return model.to(DEVICE)"
      ],
      "metadata": {
        "id": "7HWe1p5T43a_"
      },
      "execution_count": null,
      "outputs": []
    },
    {
      "cell_type": "code",
      "source": [
        "!pip install transformers sacremoses sentencepiece"
      ],
      "metadata": {
        "colab": {
          "base_uri": "https://localhost:8080/"
        },
        "id": "1kr9geMz45th",
        "outputId": "95aff0e4-7679-4061-81ec-a953ba80c24f"
      },
      "execution_count": null,
      "outputs": [
        {
          "output_type": "stream",
          "name": "stdout",
          "text": [
            "Requirement already satisfied: transformers in /usr/local/lib/python3.12/dist-packages (4.56.1)\n",
            "Collecting sacremoses\n",
            "  Downloading sacremoses-0.1.1-py3-none-any.whl.metadata (8.3 kB)\n",
            "Requirement already satisfied: sentencepiece in /usr/local/lib/python3.12/dist-packages (0.2.1)\n",
            "Requirement already satisfied: filelock in /usr/local/lib/python3.12/dist-packages (from transformers) (3.19.1)\n",
            "Requirement already satisfied: huggingface-hub<1.0,>=0.34.0 in /usr/local/lib/python3.12/dist-packages (from transformers) (0.34.4)\n",
            "Requirement already satisfied: numpy>=1.17 in /usr/local/lib/python3.12/dist-packages (from transformers) (2.0.2)\n",
            "Requirement already satisfied: packaging>=20.0 in /usr/local/lib/python3.12/dist-packages (from transformers) (25.0)\n",
            "Requirement already satisfied: pyyaml>=5.1 in /usr/local/lib/python3.12/dist-packages (from transformers) (6.0.2)\n",
            "Requirement already satisfied: regex!=2019.12.17 in /usr/local/lib/python3.12/dist-packages (from transformers) (2024.11.6)\n",
            "Requirement already satisfied: requests in /usr/local/lib/python3.12/dist-packages (from transformers) (2.32.4)\n",
            "Requirement already satisfied: tokenizers<=0.23.0,>=0.22.0 in /usr/local/lib/python3.12/dist-packages (from transformers) (0.22.0)\n",
            "Requirement already satisfied: safetensors>=0.4.3 in /usr/local/lib/python3.12/dist-packages (from transformers) (0.6.2)\n",
            "Requirement already satisfied: tqdm>=4.27 in /usr/local/lib/python3.12/dist-packages (from transformers) (4.67.1)\n",
            "Requirement already satisfied: click in /usr/local/lib/python3.12/dist-packages (from sacremoses) (8.2.1)\n",
            "Requirement already satisfied: joblib in /usr/local/lib/python3.12/dist-packages (from sacremoses) (1.5.2)\n",
            "Requirement already satisfied: fsspec>=2023.5.0 in /usr/local/lib/python3.12/dist-packages (from huggingface-hub<1.0,>=0.34.0->transformers) (2025.3.0)\n",
            "Requirement already satisfied: typing-extensions>=3.7.4.3 in /usr/local/lib/python3.12/dist-packages (from huggingface-hub<1.0,>=0.34.0->transformers) (4.15.0)\n",
            "Requirement already satisfied: hf-xet<2.0.0,>=1.1.3 in /usr/local/lib/python3.12/dist-packages (from huggingface-hub<1.0,>=0.34.0->transformers) (1.1.9)\n",
            "Requirement already satisfied: charset_normalizer<4,>=2 in /usr/local/lib/python3.12/dist-packages (from requests->transformers) (3.4.3)\n",
            "Requirement already satisfied: idna<4,>=2.5 in /usr/local/lib/python3.12/dist-packages (from requests->transformers) (3.10)\n",
            "Requirement already satisfied: urllib3<3,>=1.21.1 in /usr/local/lib/python3.12/dist-packages (from requests->transformers) (2.5.0)\n",
            "Requirement already satisfied: certifi>=2017.4.17 in /usr/local/lib/python3.12/dist-packages (from requests->transformers) (2025.8.3)\n",
            "Downloading sacremoses-0.1.1-py3-none-any.whl (897 kB)\n",
            "\u001b[2K   \u001b[90m━━━━━━━━━━━━━━━━━━━━━━━━━━━━━━━━━━━━━━━━\u001b[0m \u001b[32m897.5/897.5 kB\u001b[0m \u001b[31m13.6 MB/s\u001b[0m eta \u001b[36m0:00:00\u001b[0m\n",
            "\u001b[?25hInstalling collected packages: sacremoses\n",
            "Successfully installed sacremoses-0.1.1\n"
          ]
        }
      ]
    },
    {
      "cell_type": "code",
      "source": [
        "# Step 1: Download the zip file\n",
        "!wget https://gattonweb.uky.edu/faculty/lium/gai/en2fr.zip -O en2fr.zip\n",
        "\n",
        "# Step 2: Unzip the file into /files/ (Colab path)\n",
        "!mkdir -p /files\n",
        "!unzip -o en2fr.zip -d /files/\n",
        "\n",
        "# Step 3: Check if the file is there\n",
        "!ls -lh /files/\n",
        "\n",
        "# Step 4: Load and preview the CSV\n",
        "import pandas as pd\n",
        "\n",
        "df = pd.read_csv(\"/files/en2fr.csv\")\n",
        "print(df.shape)   # number of rows, cols\n",
        "df.head(10)       # preview first 10 rows"
      ],
      "metadata": {
        "colab": {
          "base_uri": "https://localhost:8080/",
          "height": 640
        },
        "id": "E9AH-anL5Gzj",
        "outputId": "e35f768e-8886-4b78-8e0a-8d566e61541b"
      },
      "execution_count": null,
      "outputs": [
        {
          "output_type": "stream",
          "name": "stdout",
          "text": [
            "--2025-09-21 09:17:07--  https://gattonweb.uky.edu/faculty/lium/gai/en2fr.zip\n",
            "Resolving gattonweb.uky.edu (gattonweb.uky.edu)... 128.163.0.102\n",
            "Connecting to gattonweb.uky.edu (gattonweb.uky.edu)|128.163.0.102|:443... connected.\n",
            "HTTP request sent, awaiting response... 200 OK\n",
            "Length: 1793553 (1.7M) [application/x-zip-compressed]\n",
            "Saving to: ‘en2fr.zip’\n",
            "\n",
            "en2fr.zip           100%[===================>]   1.71M  2.40MB/s    in 0.7s    \n",
            "\n",
            "2025-09-21 09:17:08 (2.40 MB/s) - ‘en2fr.zip’ saved [1793553/1793553]\n",
            "\n",
            "Archive:  en2fr.zip\n",
            "  inflating: /files/en2fr.csv        \n",
            "total 5.2M\n",
            "-rw-rw-rw- 1 root root 5.2M Jul 29  2023 en2fr.csv\n",
            "(47173, 3)\n"
          ]
        },
        {
          "output_type": "execute_result",
          "data": {
            "text/plain": [
              "   Unnamed: 0                                                 en  \\\n",
              "0           0  Two young, White males are outside near many b...   \n",
              "1           0  Several men in hard hats are operating a giant...   \n",
              "2           0    A little girl climbing into a wooden playhouse.   \n",
              "3           0  A man in a blue shirt is standing on a ladder ...   \n",
              "4           0           Two men are at the stove preparing food.   \n",
              "5           0  A man in green holds a guitar while the other ...   \n",
              "6           0                 A man is smiling at a stuffed lion   \n",
              "7           0  A trendy girl talking on her cellphone while g...   \n",
              "8           0   A woman with a large purse is walking by a gate.   \n",
              "9           0  Boys dancing on poles in the middle of the night.   \n",
              "\n",
              "                                                  fr  \n",
              "0  Deux jeunes mâles blancs se trouvent à l’extér...  \n",
              "1  Plusieurs hommes portant un chapeau d'assaut f...  \n",
              "2  Une petite fille grimpant dans une maison de j...  \n",
              "3  Un homme en chemise bleue se tient sur une éch...  \n",
              "4  Deux hommes sont à la cuisinière pour préparer...  \n",
              "5  Un homme vert tient une guitare tandis que l'a...  \n",
              "6                   Un homme sourit à un lion rempli  \n",
              "7  Une jeune fille à la mode parlant sur son télé...  \n",
              "8  Une femme porteuse d'un grand sac se promène p...  \n",
              "9  Les garçons dansent sur des mâts au milieu de ...  "
            ],
            "text/html": [
              "\n",
              "  <div id=\"df-2c7f84a2-07f6-4ef4-8b11-ce9a2f2d0ba7\" class=\"colab-df-container\">\n",
              "    <div>\n",
              "<style scoped>\n",
              "    .dataframe tbody tr th:only-of-type {\n",
              "        vertical-align: middle;\n",
              "    }\n",
              "\n",
              "    .dataframe tbody tr th {\n",
              "        vertical-align: top;\n",
              "    }\n",
              "\n",
              "    .dataframe thead th {\n",
              "        text-align: right;\n",
              "    }\n",
              "</style>\n",
              "<table border=\"1\" class=\"dataframe\">\n",
              "  <thead>\n",
              "    <tr style=\"text-align: right;\">\n",
              "      <th></th>\n",
              "      <th>Unnamed: 0</th>\n",
              "      <th>en</th>\n",
              "      <th>fr</th>\n",
              "    </tr>\n",
              "  </thead>\n",
              "  <tbody>\n",
              "    <tr>\n",
              "      <th>0</th>\n",
              "      <td>0</td>\n",
              "      <td>Two young, White males are outside near many b...</td>\n",
              "      <td>Deux jeunes mâles blancs se trouvent à l’extér...</td>\n",
              "    </tr>\n",
              "    <tr>\n",
              "      <th>1</th>\n",
              "      <td>0</td>\n",
              "      <td>Several men in hard hats are operating a giant...</td>\n",
              "      <td>Plusieurs hommes portant un chapeau d'assaut f...</td>\n",
              "    </tr>\n",
              "    <tr>\n",
              "      <th>2</th>\n",
              "      <td>0</td>\n",
              "      <td>A little girl climbing into a wooden playhouse.</td>\n",
              "      <td>Une petite fille grimpant dans une maison de j...</td>\n",
              "    </tr>\n",
              "    <tr>\n",
              "      <th>3</th>\n",
              "      <td>0</td>\n",
              "      <td>A man in a blue shirt is standing on a ladder ...</td>\n",
              "      <td>Un homme en chemise bleue se tient sur une éch...</td>\n",
              "    </tr>\n",
              "    <tr>\n",
              "      <th>4</th>\n",
              "      <td>0</td>\n",
              "      <td>Two men are at the stove preparing food.</td>\n",
              "      <td>Deux hommes sont à la cuisinière pour préparer...</td>\n",
              "    </tr>\n",
              "    <tr>\n",
              "      <th>5</th>\n",
              "      <td>0</td>\n",
              "      <td>A man in green holds a guitar while the other ...</td>\n",
              "      <td>Un homme vert tient une guitare tandis que l'a...</td>\n",
              "    </tr>\n",
              "    <tr>\n",
              "      <th>6</th>\n",
              "      <td>0</td>\n",
              "      <td>A man is smiling at a stuffed lion</td>\n",
              "      <td>Un homme sourit à un lion rempli</td>\n",
              "    </tr>\n",
              "    <tr>\n",
              "      <th>7</th>\n",
              "      <td>0</td>\n",
              "      <td>A trendy girl talking on her cellphone while g...</td>\n",
              "      <td>Une jeune fille à la mode parlant sur son télé...</td>\n",
              "    </tr>\n",
              "    <tr>\n",
              "      <th>8</th>\n",
              "      <td>0</td>\n",
              "      <td>A woman with a large purse is walking by a gate.</td>\n",
              "      <td>Une femme porteuse d'un grand sac se promène p...</td>\n",
              "    </tr>\n",
              "    <tr>\n",
              "      <th>9</th>\n",
              "      <td>0</td>\n",
              "      <td>Boys dancing on poles in the middle of the night.</td>\n",
              "      <td>Les garçons dansent sur des mâts au milieu de ...</td>\n",
              "    </tr>\n",
              "  </tbody>\n",
              "</table>\n",
              "</div>\n",
              "    <div class=\"colab-df-buttons\">\n",
              "\n",
              "  <div class=\"colab-df-container\">\n",
              "    <button class=\"colab-df-convert\" onclick=\"convertToInteractive('df-2c7f84a2-07f6-4ef4-8b11-ce9a2f2d0ba7')\"\n",
              "            title=\"Convert this dataframe to an interactive table.\"\n",
              "            style=\"display:none;\">\n",
              "\n",
              "  <svg xmlns=\"http://www.w3.org/2000/svg\" height=\"24px\" viewBox=\"0 -960 960 960\">\n",
              "    <path d=\"M120-120v-720h720v720H120Zm60-500h600v-160H180v160Zm220 220h160v-160H400v160Zm0 220h160v-160H400v160ZM180-400h160v-160H180v160Zm440 0h160v-160H620v160ZM180-180h160v-160H180v160Zm440 0h160v-160H620v160Z\"/>\n",
              "  </svg>\n",
              "    </button>\n",
              "\n",
              "  <style>\n",
              "    .colab-df-container {\n",
              "      display:flex;\n",
              "      gap: 12px;\n",
              "    }\n",
              "\n",
              "    .colab-df-convert {\n",
              "      background-color: #E8F0FE;\n",
              "      border: none;\n",
              "      border-radius: 50%;\n",
              "      cursor: pointer;\n",
              "      display: none;\n",
              "      fill: #1967D2;\n",
              "      height: 32px;\n",
              "      padding: 0 0 0 0;\n",
              "      width: 32px;\n",
              "    }\n",
              "\n",
              "    .colab-df-convert:hover {\n",
              "      background-color: #E2EBFA;\n",
              "      box-shadow: 0px 1px 2px rgba(60, 64, 67, 0.3), 0px 1px 3px 1px rgba(60, 64, 67, 0.15);\n",
              "      fill: #174EA6;\n",
              "    }\n",
              "\n",
              "    .colab-df-buttons div {\n",
              "      margin-bottom: 4px;\n",
              "    }\n",
              "\n",
              "    [theme=dark] .colab-df-convert {\n",
              "      background-color: #3B4455;\n",
              "      fill: #D2E3FC;\n",
              "    }\n",
              "\n",
              "    [theme=dark] .colab-df-convert:hover {\n",
              "      background-color: #434B5C;\n",
              "      box-shadow: 0px 1px 3px 1px rgba(0, 0, 0, 0.15);\n",
              "      filter: drop-shadow(0px 1px 2px rgba(0, 0, 0, 0.3));\n",
              "      fill: #FFFFFF;\n",
              "    }\n",
              "  </style>\n",
              "\n",
              "    <script>\n",
              "      const buttonEl =\n",
              "        document.querySelector('#df-2c7f84a2-07f6-4ef4-8b11-ce9a2f2d0ba7 button.colab-df-convert');\n",
              "      buttonEl.style.display =\n",
              "        google.colab.kernel.accessAllowed ? 'block' : 'none';\n",
              "\n",
              "      async function convertToInteractive(key) {\n",
              "        const element = document.querySelector('#df-2c7f84a2-07f6-4ef4-8b11-ce9a2f2d0ba7');\n",
              "        const dataTable =\n",
              "          await google.colab.kernel.invokeFunction('convertToInteractive',\n",
              "                                                    [key], {});\n",
              "        if (!dataTable) return;\n",
              "\n",
              "        const docLinkHtml = 'Like what you see? Visit the ' +\n",
              "          '<a target=\"_blank\" href=https://colab.research.google.com/notebooks/data_table.ipynb>data table notebook</a>'\n",
              "          + ' to learn more about interactive tables.';\n",
              "        element.innerHTML = '';\n",
              "        dataTable['output_type'] = 'display_data';\n",
              "        await google.colab.output.renderOutput(dataTable, element);\n",
              "        const docLink = document.createElement('div');\n",
              "        docLink.innerHTML = docLinkHtml;\n",
              "        element.appendChild(docLink);\n",
              "      }\n",
              "    </script>\n",
              "  </div>\n",
              "\n",
              "\n",
              "    <div id=\"df-2a82b873-b81c-4dca-ad6b-96f226d6c870\">\n",
              "      <button class=\"colab-df-quickchart\" onclick=\"quickchart('df-2a82b873-b81c-4dca-ad6b-96f226d6c870')\"\n",
              "                title=\"Suggest charts\"\n",
              "                style=\"display:none;\">\n",
              "\n",
              "<svg xmlns=\"http://www.w3.org/2000/svg\" height=\"24px\"viewBox=\"0 0 24 24\"\n",
              "     width=\"24px\">\n",
              "    <g>\n",
              "        <path d=\"M19 3H5c-1.1 0-2 .9-2 2v14c0 1.1.9 2 2 2h14c1.1 0 2-.9 2-2V5c0-1.1-.9-2-2-2zM9 17H7v-7h2v7zm4 0h-2V7h2v10zm4 0h-2v-4h2v4z\"/>\n",
              "    </g>\n",
              "</svg>\n",
              "      </button>\n",
              "\n",
              "<style>\n",
              "  .colab-df-quickchart {\n",
              "      --bg-color: #E8F0FE;\n",
              "      --fill-color: #1967D2;\n",
              "      --hover-bg-color: #E2EBFA;\n",
              "      --hover-fill-color: #174EA6;\n",
              "      --disabled-fill-color: #AAA;\n",
              "      --disabled-bg-color: #DDD;\n",
              "  }\n",
              "\n",
              "  [theme=dark] .colab-df-quickchart {\n",
              "      --bg-color: #3B4455;\n",
              "      --fill-color: #D2E3FC;\n",
              "      --hover-bg-color: #434B5C;\n",
              "      --hover-fill-color: #FFFFFF;\n",
              "      --disabled-bg-color: #3B4455;\n",
              "      --disabled-fill-color: #666;\n",
              "  }\n",
              "\n",
              "  .colab-df-quickchart {\n",
              "    background-color: var(--bg-color);\n",
              "    border: none;\n",
              "    border-radius: 50%;\n",
              "    cursor: pointer;\n",
              "    display: none;\n",
              "    fill: var(--fill-color);\n",
              "    height: 32px;\n",
              "    padding: 0;\n",
              "    width: 32px;\n",
              "  }\n",
              "\n",
              "  .colab-df-quickchart:hover {\n",
              "    background-color: var(--hover-bg-color);\n",
              "    box-shadow: 0 1px 2px rgba(60, 64, 67, 0.3), 0 1px 3px 1px rgba(60, 64, 67, 0.15);\n",
              "    fill: var(--button-hover-fill-color);\n",
              "  }\n",
              "\n",
              "  .colab-df-quickchart-complete:disabled,\n",
              "  .colab-df-quickchart-complete:disabled:hover {\n",
              "    background-color: var(--disabled-bg-color);\n",
              "    fill: var(--disabled-fill-color);\n",
              "    box-shadow: none;\n",
              "  }\n",
              "\n",
              "  .colab-df-spinner {\n",
              "    border: 2px solid var(--fill-color);\n",
              "    border-color: transparent;\n",
              "    border-bottom-color: var(--fill-color);\n",
              "    animation:\n",
              "      spin 1s steps(1) infinite;\n",
              "  }\n",
              "\n",
              "  @keyframes spin {\n",
              "    0% {\n",
              "      border-color: transparent;\n",
              "      border-bottom-color: var(--fill-color);\n",
              "      border-left-color: var(--fill-color);\n",
              "    }\n",
              "    20% {\n",
              "      border-color: transparent;\n",
              "      border-left-color: var(--fill-color);\n",
              "      border-top-color: var(--fill-color);\n",
              "    }\n",
              "    30% {\n",
              "      border-color: transparent;\n",
              "      border-left-color: var(--fill-color);\n",
              "      border-top-color: var(--fill-color);\n",
              "      border-right-color: var(--fill-color);\n",
              "    }\n",
              "    40% {\n",
              "      border-color: transparent;\n",
              "      border-right-color: var(--fill-color);\n",
              "      border-top-color: var(--fill-color);\n",
              "    }\n",
              "    60% {\n",
              "      border-color: transparent;\n",
              "      border-right-color: var(--fill-color);\n",
              "    }\n",
              "    80% {\n",
              "      border-color: transparent;\n",
              "      border-right-color: var(--fill-color);\n",
              "      border-bottom-color: var(--fill-color);\n",
              "    }\n",
              "    90% {\n",
              "      border-color: transparent;\n",
              "      border-bottom-color: var(--fill-color);\n",
              "    }\n",
              "  }\n",
              "</style>\n",
              "\n",
              "      <script>\n",
              "        async function quickchart(key) {\n",
              "          const quickchartButtonEl =\n",
              "            document.querySelector('#' + key + ' button');\n",
              "          quickchartButtonEl.disabled = true;  // To prevent multiple clicks.\n",
              "          quickchartButtonEl.classList.add('colab-df-spinner');\n",
              "          try {\n",
              "            const charts = await google.colab.kernel.invokeFunction(\n",
              "                'suggestCharts', [key], {});\n",
              "          } catch (error) {\n",
              "            console.error('Error during call to suggestCharts:', error);\n",
              "          }\n",
              "          quickchartButtonEl.classList.remove('colab-df-spinner');\n",
              "          quickchartButtonEl.classList.add('colab-df-quickchart-complete');\n",
              "        }\n",
              "        (() => {\n",
              "          let quickchartButtonEl =\n",
              "            document.querySelector('#df-2a82b873-b81c-4dca-ad6b-96f226d6c870 button');\n",
              "          quickchartButtonEl.style.display =\n",
              "            google.colab.kernel.accessAllowed ? 'block' : 'none';\n",
              "        })();\n",
              "      </script>\n",
              "    </div>\n",
              "\n",
              "    </div>\n",
              "  </div>\n"
            ],
            "application/vnd.google.colaboratory.intrinsic+json": {
              "type": "dataframe",
              "variable_name": "df",
              "summary": "{\n  \"name\": \"df\",\n  \"rows\": 47173,\n  \"fields\": [\n    {\n      \"column\": \"Unnamed: 0\",\n      \"properties\": {\n        \"dtype\": \"number\",\n        \"std\": 0,\n        \"min\": 0,\n        \"max\": 0,\n        \"num_unique_values\": 1,\n        \"samples\": [\n          0\n        ],\n        \"semantic_type\": \"\",\n        \"description\": \"\"\n      }\n    },\n    {\n      \"column\": \"en\",\n      \"properties\": {\n        \"dtype\": \"string\",\n        \"num_unique_values\": 46653,\n        \"samples\": [\n          \"A soccer team in yellow and black uniforms poses for a picture on the field.\"\n        ],\n        \"semantic_type\": \"\",\n        \"description\": \"\"\n      }\n    },\n    {\n      \"column\": \"fr\",\n      \"properties\": {\n        \"dtype\": \"string\",\n        \"num_unique_values\": 46204,\n        \"samples\": [\n          \"Un homme sur la chaise fait de la publicit\\u00e9 ou partage de l'information.\"\n        ],\n        \"semantic_type\": \"\",\n        \"description\": \"\"\n      }\n    }\n  ]\n}"
            }
          },
          "metadata": {},
          "execution_count": 15
        }
      ]
    },
    {
      "cell_type": "code",
      "source": [
        "import pandas as pd\n",
        "\n",
        "df=pd.read_csv(\"/content/en2fr.zip\")\n",
        "num_examples=len(df)\n",
        "print(f\"there are {num_examples} examples in the training data\")\n",
        "print(df.iloc[30856][\"en\"])\n",
        "print(df.iloc[30856][\"fr\"])"
      ],
      "metadata": {
        "colab": {
          "base_uri": "https://localhost:8080/"
        },
        "id": "x8WhOEQ75IrE",
        "outputId": "616e40d6-bd12-4b8d-f4ab-9c35196b732a"
      },
      "execution_count": null,
      "outputs": [
        {
          "output_type": "stream",
          "name": "stdout",
          "text": [
            "there are 47173 examples in the training data\n",
            "How are you?\n",
            "Comment êtes-vous?\n"
          ]
        }
      ]
    },
    {
      "cell_type": "code",
      "source": [
        "from transformers import XLMTokenizer\n",
        "\n",
        "tokenizer = XLMTokenizer.from_pretrained(\"xlm-clm-enfr-1024\")\n",
        "\n",
        "tokenized_en=tokenizer.tokenize(\"I don't speak French.\")\n",
        "print(tokenized_en)\n",
        "tokenized_fr=tokenizer.tokenize(\"Je ne parle pas français.\")\n",
        "print(tokenized_fr)\n",
        "print(tokenizer.tokenize(\"How are you?\"))\n",
        "print(tokenizer.tokenize(\"Comment êtes-vous?\"))"
      ],
      "metadata": {
        "colab": {
          "base_uri": "https://localhost:8080/",
          "height": 319,
          "referenced_widgets": [
            "35b1f459ca6f42e2a7fcbaf6a7b7766f",
            "a1a7930774f04068b6133664093e0fe6",
            "f9b4cc6df908485f8d3096bf55744c5c",
            "02fb761e7fd54d9ca197098a5955930d",
            "b880c97b8eb147009d0fc31622ac207f",
            "eb492e030e6b4c118196b173f7b898ed",
            "22603735d4fc45cc9f7be26d81faf597",
            "18f9246272cb46e19964dea6b1191050",
            "a4abd15b6f314f23978f4fb05a4a1bd8",
            "7d6764d169b7477d9ad40d6d8363e7a3",
            "b17d569cdb5a4901a4caf8fdb7b4db21",
            "169bd0e6100c4d9487d72de937834a24",
            "04ae175c6ba54822bf0cc86f0768c696",
            "51ac3bd0690847c0a3919f547398fbfa",
            "ef9b921d15d04c1bb76db53fa89817ac",
            "fd85416943cb4acda8fece5d22a0215c",
            "fd7de070b1ed4261928a75de5b721508",
            "318f4d20de204eb094593d9fa1056e25",
            "e9f9c42828fa4e4aaa95f933b84bb0a5",
            "c586100cc9a6454eb0c44341e3b7cca5",
            "ad344866c4ff478fa2a1a25fc83a3a5f",
            "388d444a66b541928a3187f3b96e2007",
            "dc61f89afc8247158755a1cf4883023f",
            "93df6ba717d44d8f8b5e4307c57c1dd4",
            "ba6d2fb5d2944cc6a82468d3e8a04147",
            "723905e723424dedba9fa763305b8b1e",
            "5c0e197959cf4c36aa1838c6454d6e33",
            "1787e4526cbb4abc895e34613177d281",
            "a437fc43351e45129ba0226fa6cad01a",
            "909b72c65b0e4fcf827820f69eee4da1",
            "ef1f8ef488824096ab91e18c45acb13c",
            "be9f9497db6a42f09cd3f4858f93b4dc",
            "7ae05eccb91e458abea84445fac41059",
            "0f94e426a983463d8783abdba21100d6",
            "30ff88e46fe34af083601b2cd68904c5",
            "843421fa5b934849aa78c4192a8f9f3f",
            "58ee0eb3705248dda9b8c4ce84c02985",
            "3d7dd34974e74b059576f2ad37767c76",
            "75821beef42e40a7a7d9a8500d5f0d2a",
            "d9e33ced769f4746bae9586891591e79",
            "e644cf5f76814c25a6f46d9a6bddf8cb",
            "dc38b0ba61fd457c9f54510ebab82392",
            "3cd28a2420324a37bf0d52ec3f0ab356",
            "81b7cd0dd89d4f2ca1f85b1393a717db"
          ]
        },
        "id": "UVcI4JSr5NWa",
        "outputId": "a0653592-de1c-4b4f-bb00-dd75b3846546"
      },
      "execution_count": null,
      "outputs": [
        {
          "output_type": "stream",
          "name": "stderr",
          "text": [
            "/usr/local/lib/python3.12/dist-packages/huggingface_hub/utils/_auth.py:94: UserWarning: \n",
            "The secret `HF_TOKEN` does not exist in your Colab secrets.\n",
            "To authenticate with the Hugging Face Hub, create a token in your settings tab (https://huggingface.co/settings/tokens), set it as secret in your Google Colab and restart your session.\n",
            "You will be able to reuse this secret in all of your notebooks.\n",
            "Please note that authentication is recommended but still optional to access public models or datasets.\n",
            "  warnings.warn(\n"
          ]
        },
        {
          "output_type": "display_data",
          "data": {
            "text/plain": [
              "tokenizer_config.json:   0%|          | 0.00/131 [00:00<?, ?B/s]"
            ],
            "application/vnd.jupyter.widget-view+json": {
              "version_major": 2,
              "version_minor": 0,
              "model_id": "35b1f459ca6f42e2a7fcbaf6a7b7766f"
            }
          },
          "metadata": {}
        },
        {
          "output_type": "display_data",
          "data": {
            "text/plain": [
              "vocab.json:   0%|          | 0.00/1.45M [00:00<?, ?B/s]"
            ],
            "application/vnd.jupyter.widget-view+json": {
              "version_major": 2,
              "version_minor": 0,
              "model_id": "169bd0e6100c4d9487d72de937834a24"
            }
          },
          "metadata": {}
        },
        {
          "output_type": "display_data",
          "data": {
            "text/plain": [
              "merges.txt:   0%|          | 0.00/1.01M [00:00<?, ?B/s]"
            ],
            "application/vnd.jupyter.widget-view+json": {
              "version_major": 2,
              "version_minor": 0,
              "model_id": "dc61f89afc8247158755a1cf4883023f"
            }
          },
          "metadata": {}
        },
        {
          "output_type": "display_data",
          "data": {
            "text/plain": [
              "config.json:   0%|          | 0.00/1.02k [00:00<?, ?B/s]"
            ],
            "application/vnd.jupyter.widget-view+json": {
              "version_major": 2,
              "version_minor": 0,
              "model_id": "0f94e426a983463d8783abdba21100d6"
            }
          },
          "metadata": {}
        },
        {
          "output_type": "stream",
          "name": "stdout",
          "text": [
            "['i</w>', 'don</w>', \"'t</w>\", 'speak</w>', 'fr', 'ench</w>', '.</w>']\n",
            "['je</w>', 'ne</w>', 'parle</w>', 'pas</w>', 'franc', 'ais</w>', '.</w>']\n",
            "['how</w>', 'are</w>', 'you</w>', '?</w>']\n",
            "['comment</w>', 'et', 'es-vous</w>', '?</w>']\n"
          ]
        }
      ]
    },
    {
      "cell_type": "code",
      "source": [
        "# build dictionaries\n",
        "from collections import Counter\n",
        "\n",
        "en=df[\"en\"].tolist()\n",
        "\n",
        "en_tokens=[[\"BOS\"]+tokenizer.tokenize(x)+[\"EOS\"] for x in en]\n",
        "PAD=0\n",
        "UNK=1\n",
        "# apply to English\n",
        "word_count=Counter()\n",
        "for sentence in en_tokens:\n",
        "    for word in sentence:\n",
        "        word_count[word]+=1\n",
        "frequency=word_count.most_common(50000)\n",
        "total_en_words=len(frequency)+2\n",
        "en_word_dict={w[0]:idx+2 for idx,w in enumerate(frequency)}\n",
        "en_word_dict[\"PAD\"]=PAD\n",
        "en_word_dict[\"UNK\"]=UNK\n",
        "# another dictionary to map numbers to tokens\n",
        "en_idx_dict={v:k for k,v in en_word_dict.items()}"
      ],
      "metadata": {
        "id": "EXwPHnBe5ZbB"
      },
      "execution_count": null,
      "outputs": []
    },
    {
      "cell_type": "code",
      "source": [
        "enidx=[en_word_dict.get(i,UNK) for i in tokenized_en]\n",
        "print(enidx)"
      ],
      "metadata": {
        "colab": {
          "base_uri": "https://localhost:8080/"
        },
        "id": "DJjC1Zn06ABv",
        "outputId": "9b5e852f-d417-4450-e0e0-63d4b001ce48"
      },
      "execution_count": null,
      "outputs": [
        {
          "output_type": "stream",
          "name": "stdout",
          "text": [
            "[15, 100, 38, 377, 476, 574, 5]\n"
          ]
        }
      ]
    },
    {
      "cell_type": "code",
      "source": [
        "entokens=[en_idx_dict.get(i,\"UNK\") for i in enidx]\n",
        "print(entokens)\n",
        "en_phrase=\"\".join(entokens)\n",
        "en_phrase=en_phrase.replace(\"</w>\",\" \")\n",
        "for x in '''?:;.,'(\"-!&)%''':\n",
        "    en_phrase=en_phrase.replace(f\" {x}\",f\"{x}\")\n",
        "print(en_phrase)"
      ],
      "metadata": {
        "colab": {
          "base_uri": "https://localhost:8080/"
        },
        "id": "W_KU4nCX9q9b",
        "outputId": "963e9b58-af75-4e74-fb68-0fb5b3fbac73"
      },
      "execution_count": null,
      "outputs": [
        {
          "output_type": "stream",
          "name": "stdout",
          "text": [
            "['i</w>', 'don</w>', \"'t</w>\", 'speak</w>', 'fr', 'ench</w>', '.</w>']\n",
            "i don't speak french. \n"
          ]
        }
      ]
    },
    {
      "cell_type": "code",
      "source": [
        "tokens=['how</w>', 'are</w>', 'you</w>', '?</w>']\n",
        "indexes=[en_word_dict.get(i,UNK) for i in tokens]\n",
        "print(indexes)\n",
        "tokens=[en_idx_dict.get(i,\"UNK\") for i in indexes]\n",
        "print(tokens)\n",
        "phrase=\"\".join(tokens)\n",
        "phrase=phrase.replace(\"</w>\",\" \")\n",
        "for x in '''?:;.,'(\"-!&)%''':\n",
        "    phrase=phrase.replace(f\" {x}\",f\"{x}\")\n",
        "print(phrase)"
      ],
      "metadata": {
        "colab": {
          "base_uri": "https://localhost:8080/"
        },
        "id": "G76ZEkwe9tGp",
        "outputId": "af889897-129c-424b-d9eb-dc07fe83d694"
      },
      "execution_count": null,
      "outputs": [
        {
          "output_type": "stream",
          "name": "stdout",
          "text": [
            "[157, 17, 22, 26]\n",
            "['how</w>', 'are</w>', 'you</w>', '?</w>']\n",
            "how are you? \n"
          ]
        }
      ]
    },
    {
      "cell_type": "code",
      "source": [
        "# do the same for French phrases\n",
        "fr=df[\"fr\"].tolist()\n",
        "fr_tokens=[[\"BOS\"]+tokenizer.tokenize(x)+[\"EOS\"] for x in fr]\n",
        "word_count=Counter()\n",
        "for sentence in fr_tokens:\n",
        "    for word in sentence:\n",
        "        word_count[word]+=1\n",
        "frequency=word_count.most_common(50000)\n",
        "total_fr_words=len(frequency)+2\n",
        "fr_word_dict={w[0]:idx+2 for idx,w in enumerate(frequency)}\n",
        "fr_word_dict[\"PAD\"]=PAD\n",
        "fr_word_dict[\"UNK\"]=UNK\n",
        "fr_idx_dict={v:k for k,v in fr_word_dict.items()}"
      ],
      "metadata": {
        "id": "ULuUSttg9yVL"
      },
      "execution_count": null,
      "outputs": []
    },
    {
      "cell_type": "code",
      "source": [
        "fridx=[fr_word_dict.get(i,UNK) for i in tokenized_fr]\n",
        "print(fridx)"
      ],
      "metadata": {
        "colab": {
          "base_uri": "https://localhost:8080/"
        },
        "id": "Qmlx9Bt390_b",
        "outputId": "ed14367b-7b9c-45a1-d53d-1ff07c17fad5"
      },
      "execution_count": null,
      "outputs": [
        {
          "output_type": "stream",
          "name": "stdout",
          "text": [
            "[28, 40, 231, 32, 726, 370, 4]\n"
          ]
        }
      ]
    },
    {
      "cell_type": "code",
      "source": [
        "frtokens=[fr_idx_dict.get(i,\"UNK\") for i in fridx]\n",
        "print(frtokens)\n",
        "fr_phrase=\"\".join(frtokens)\n",
        "fr_phrase=fr_phrase.replace(\"</w>\",\" \")\n",
        "for x in '''?:;.,'(\"-!&)%''':\n",
        "    fr_phrase=fr_phrase.replace(f\" {x}\",f\"{x}\")\n",
        "print(fr_phrase)"
      ],
      "metadata": {
        "colab": {
          "base_uri": "https://localhost:8080/"
        },
        "id": "0X24wEJt93B6",
        "outputId": "aa8c2d83-c229-4126-d37f-200f4b27aa5b"
      },
      "execution_count": null,
      "outputs": [
        {
          "output_type": "stream",
          "name": "stdout",
          "text": [
            "['je</w>', 'ne</w>', 'parle</w>', 'pas</w>', 'franc', 'ais</w>', '.</w>']\n",
            "je ne parle pas francais. \n"
          ]
        }
      ]
    },
    {
      "cell_type": "code",
      "source": [
        "# exercise 10.2\n",
        "tokens=['comment</w>', 'et', 'es-vous</w>', '?</w>']\n",
        "indexes=[fr_word_dict.get(i,UNK) for i in tokens]\n",
        "print(indexes)\n",
        "tokens=[fr_idx_dict.get(i,\"UNK\") for i in indexes]\n",
        "print(tokens)\n",
        "phrase=\"\".join(tokens)\n",
        "phrase=phrase.replace(\"</w>\",\" \")\n",
        "for x in '''?:;.,'(\"-!&)%''':\n",
        "    phrase=phrase.replace(f\" {x}\",f\"{x}\")\n",
        "print(phrase)"
      ],
      "metadata": {
        "colab": {
          "base_uri": "https://localhost:8080/"
        },
        "id": "iyYM1dfb94Uf",
        "outputId": "18b47566-5dd6-4c5d-9fae-a10c0d38dd1d"
      },
      "execution_count": null,
      "outputs": [
        {
          "output_type": "stream",
          "name": "stdout",
          "text": [
            "[452, 61, 742, 30]\n",
            "['comment</w>', 'et', 'es-vous</w>', '?</w>']\n",
            "comment etes-vous? \n"
          ]
        }
      ]
    },
    {
      "cell_type": "code",
      "source": [
        "import os\n",
        "\n",
        "# Ensure the folder exists\n",
        "os.makedirs(\"/files\", exist_ok=True)\n",
        "\n",
        "# Save dicts into /files/\n",
        "import pickle\n",
        "\n",
        "with open(\"/files/dict.p\", \"wb\") as fb:\n",
        "    pickle.dump((en_word_dict, en_idx_dict, fr_word_dict, fr_idx_dict), fb)\n",
        "\n",
        "print(\"Dictionary saved at /files/dict.p\")\n"
      ],
      "metadata": {
        "colab": {
          "base_uri": "https://localhost:8080/"
        },
        "id": "vPmcYnfn96J2",
        "outputId": "321b0ea8-94d9-4308-fae0-2ce00f57bd8a"
      },
      "execution_count": null,
      "outputs": [
        {
          "output_type": "stream",
          "name": "stdout",
          "text": [
            "Dictionary saved at /files/dict.p\n"
          ]
        }
      ]
    },
    {
      "cell_type": "code",
      "source": [
        "out_en_ids=[[en_word_dict.get(w,UNK) for w in s] for s in en_tokens]\n",
        "out_fr_ids=[[fr_word_dict.get(w,UNK) for w in s] for s in fr_tokens]\n",
        "sorted_ids=sorted(range(len(out_en_ids)),\n",
        "                  key=lambda x:len(out_en_ids[x]))\n",
        "out_en_ids=[out_en_ids[x] for x in sorted_ids]\n",
        "out_fr_ids=[out_fr_ids[x] for x in sorted_ids]"
      ],
      "metadata": {
        "id": "SyfgKmYwVoRa"
      },
      "execution_count": null,
      "outputs": []
    },
    {
      "cell_type": "code",
      "source": [
        "import numpy as np\n",
        "\n",
        "batch_size=128\n",
        "idx_list=np.arange(0,len(en_tokens),batch_size)\n",
        "np.random.shuffle(idx_list)\n",
        "\n",
        "batch_indexs=[]\n",
        "for idx in idx_list:\n",
        "    batch_indexs.append(np.arange(idx,min(len(en_tokens),\n",
        "                                          idx+batch_size)))"
      ],
      "metadata": {
        "id": "IIMam6Eq98d4"
      },
      "execution_count": null,
      "outputs": []
    },
    {
      "cell_type": "code",
      "source": [
        "def seq_padding(X, padding=0):\n",
        "    L = [len(x) for x in X]\n",
        "    ML = max(L)\n",
        "    padded_seq = np.array([np.concatenate([x, [padding] * (ML - len(x))])\n",
        "        if len(x) < ML else x for x in X])\n",
        "    return padded_seq"
      ],
      "metadata": {
        "id": "4yanZaH7BJCa"
      },
      "execution_count": null,
      "outputs": []
    },
    {
      "cell_type": "code",
      "source": [
        "import torch\n",
        "DEVICE = \"cuda\" if torch.cuda.is_available() else \"cpu\"\n",
        "\n",
        "# define the Batch class\n",
        "class Batch:\n",
        "    def __init__(self, src, trg=None, pad=0):\n",
        "        src = torch.from_numpy(src).to(DEVICE).long()\n",
        "        self.src = src\n",
        "        self.src_mask = (src != pad).unsqueeze(-2)\n",
        "        if trg is not None:\n",
        "            trg = torch.from_numpy(trg).to(DEVICE).long()\n",
        "            self.trg = trg[:, :-1]\n",
        "            self.trg_y = trg[:, 1:]\n",
        "            self.trg_mask = make_std_mask(self.trg, pad)\n",
        "            self.ntokens = (self.trg_y != pad).data.sum()\n",
        "import numpy as np\n",
        "def subsequent_mask(size):\n",
        "    attn_shape = (1, size, size)\n",
        "    subsequent_mask = np.triu(np.ones(attn_shape),\n",
        "                              k=1).astype('uint8')\n",
        "    output = torch.from_numpy(subsequent_mask) == 0\n",
        "    return output\n",
        "\n",
        "def make_std_mask(tgt, pad):\n",
        "    tgt_mask = (tgt != pad).unsqueeze(-2)\n",
        "    output = tgt_mask & subsequent_mask(tgt.size(-1)).type_as(tgt_mask.data)\n",
        "    return output"
      ],
      "metadata": {
        "id": "_TUp0fmwBK7w"
      },
      "execution_count": null,
      "outputs": []
    },
    {
      "cell_type": "code",
      "source": [
        "class BatchLoader():\n",
        "    def __init__(self):\n",
        "        self.idx=0\n",
        "    def __iter__(self):\n",
        "        return self\n",
        "    def __next__(self):\n",
        "        self.idx += 1\n",
        "        if self.idx<=len(batch_indexs):\n",
        "            b=batch_indexs[self.idx-1]\n",
        "            batch_en=[out_en_ids[x] for x in b]\n",
        "            batch_fr=[out_fr_ids[x] for x in b]\n",
        "            batch_en=seq_padding(batch_en)\n",
        "            batch_fr=seq_padding(batch_fr)\n",
        "            return Batch(batch_en,batch_fr)\n",
        "        raise StopIteration"
      ],
      "metadata": {
        "id": "TIe-0vi4BOgE"
      },
      "execution_count": null,
      "outputs": []
    },
    {
      "cell_type": "code",
      "source": [
        "src_vocab = len(en_word_dict)\n",
        "tgt_vocab = len(fr_word_dict)\n",
        "print(f\"there are {src_vocab} distinct English tokens\")\n",
        "print(f\"there are {tgt_vocab} distinct French tokens\")"
      ],
      "metadata": {
        "colab": {
          "base_uri": "https://localhost:8080/"
        },
        "id": "S1dR58lIBQRU",
        "outputId": "46a9354b-d389-4a8d-a428-ebaa969d0a32"
      },
      "execution_count": null,
      "outputs": [
        {
          "output_type": "stream",
          "name": "stdout",
          "text": [
            "there are 11055 distinct English tokens\n",
            "there are 11239 distinct French tokens\n"
          ]
        }
      ]
    },
    {
      "cell_type": "code",
      "source": [
        "import math\n",
        "\n",
        "class Embeddings(nn.Module):\n",
        "    def __init__(self, d_model, vocab):\n",
        "        super().__init__()\n",
        "        self.lut = nn.Embedding(vocab, d_model)\n",
        "        self.d_model = d_model\n",
        "\n",
        "    def forward(self, x):\n",
        "        out = self.lut(x) * math.sqrt(self.d_model)\n",
        "        return out"
      ],
      "metadata": {
        "id": "2wiu5u5kBc-2"
      },
      "execution_count": null,
      "outputs": []
    },
    {
      "cell_type": "code",
      "source": [
        "class PositionalEncoding(nn.Module):\n",
        "    def __init__(self, d_model, dropout, max_len=5000):\n",
        "        super().__init__()\n",
        "        self.dropout = nn.Dropout(p=dropout)\n",
        "        pe = torch.zeros(max_len, d_model, device=DEVICE)\n",
        "        position = torch.arange(0., max_len,\n",
        "                                device=DEVICE).unsqueeze(1)\n",
        "        div_term = torch.exp(torch.arange(\n",
        "            0., d_model, 2, device=DEVICE)\n",
        "            * -(math.log(10000.0) / d_model))\n",
        "        pe_pos = torch.mul(position, div_term)\n",
        "        pe[:, 0::2] = torch.sin(pe_pos)\n",
        "        pe[:, 1::2] = torch.cos(pe_pos)\n",
        "        pe = pe.unsqueeze(0)\n",
        "        self.register_buffer('pe', pe)\n",
        "\n",
        "    def forward(self, x):\n",
        "        x = x + self.pe[:, :x.size(1)].requires_grad_(False)\n",
        "        out = self.dropout(x)\n",
        "        return out"
      ],
      "metadata": {
        "id": "iTzrA_xvBhrL"
      },
      "execution_count": null,
      "outputs": []
    },
    {
      "cell_type": "code",
      "source": [
        "import torch\n",
        "DEVICE = \"cuda\" if torch.cuda.is_available() else \"cpu\"\n",
        "\n",
        "pe = PositionalEncoding(256, 0.1)\n",
        "x = torch.zeros(1, 8, 256).to(DEVICE)\n",
        "y = pe.forward(x)\n",
        "print(f\"the shape of positional encoding is {y.shape}\")\n",
        "print(y)"
      ],
      "metadata": {
        "colab": {
          "base_uri": "https://localhost:8080/"
        },
        "id": "uaf4hpVYBj65",
        "outputId": "9d3f6d2c-1604-4493-fc2c-9c4847d056fb"
      },
      "execution_count": null,
      "outputs": [
        {
          "output_type": "stream",
          "name": "stdout",
          "text": [
            "the shape of positional encoding is torch.Size([1, 8, 256])\n",
            "tensor([[[ 0.0000e+00,  1.1111e+00,  0.0000e+00,  ...,  1.1111e+00,\n",
            "           0.0000e+00,  1.1111e+00],\n",
            "         [ 9.3497e-01,  6.0034e-01,  0.0000e+00,  ...,  1.1111e+00,\n",
            "           1.1940e-04,  1.1111e+00],\n",
            "         [ 1.0103e+00, -4.6239e-01,  1.0646e+00,  ...,  0.0000e+00,\n",
            "           2.3880e-04,  1.1111e+00],\n",
            "         ...,\n",
            "         [-0.0000e+00,  3.1518e-01, -1.1091e+00,  ...,  1.1111e+00,\n",
            "           5.9700e-04,  1.1111e+00],\n",
            "         [-0.0000e+00,  1.0669e+00, -7.1559e-01,  ...,  1.1111e+00,\n",
            "           7.1640e-04,  1.1111e+00],\n",
            "         [ 7.2999e-01,  8.3767e-01,  2.5419e-01,  ...,  1.1111e+00,\n",
            "           8.3581e-04,  1.1111e+00]]], device='cuda:0')\n"
          ]
        }
      ]
    },
    {
      "cell_type": "code",
      "source": [
        "model = create_model(src_vocab, tgt_vocab, N=6,\n",
        "    d_model=256, d_ff=1024, h=8, dropout=0.1)"
      ],
      "metadata": {
        "id": "vw-KclaaCP03"
      },
      "execution_count": null,
      "outputs": []
    },
    {
      "cell_type": "code",
      "source": [
        "class LabelSmoothing(nn.Module):\n",
        "    def __init__(self, size, padding_idx, smoothing=0.1):\n",
        "        super().__init__()\n",
        "        self.criterion = nn.KLDivLoss(reduction='sum')\n",
        "        self.padding_idx = padding_idx\n",
        "        self.confidence = 1.0 - smoothing\n",
        "        self.smoothing = smoothing\n",
        "        self.size = size\n",
        "        self.true_dist = None\n",
        "\n",
        "    def forward(self, x, target):\n",
        "        assert x.size(1) == self.size\n",
        "        true_dist = x.data.clone()\n",
        "        true_dist.fill_(self.smoothing / (self.size - 2))\n",
        "        true_dist.scatter_(1,\n",
        "               target.data.unsqueeze(1), self.confidence)\n",
        "        true_dist[:, self.padding_idx] = 0\n",
        "        mask = torch.nonzero(target.data == self.padding_idx)\n",
        "        if mask.dim() > 0:\n",
        "            true_dist.index_fill_(0, mask.squeeze(), 0.0)\n",
        "        self.true_dist = true_dist\n",
        "        output = self.criterion(x, true_dist.clone().detach())\n",
        "        return output"
      ],
      "metadata": {
        "id": "ogqcRXpmCR1q"
      },
      "execution_count": null,
      "outputs": []
    },
    {
      "cell_type": "code",
      "source": [
        "class NoamOpt:\n",
        "    def __init__(self, model_size, factor, warmup, optimizer):\n",
        "        self.optimizer = optimizer\n",
        "        self._step = 0\n",
        "        self.warmup = warmup\n",
        "        self.factor = factor\n",
        "        self.model_size = model_size\n",
        "        self._rate = 0\n",
        "\n",
        "    def step(self):\n",
        "        self._step += 1\n",
        "        rate = self.rate()\n",
        "        for p in self.optimizer.param_groups:\n",
        "            p['lr'] = rate\n",
        "        self._rate = rate\n",
        "        self.optimizer.step()\n",
        "\n",
        "    def rate(self, step=None):\n",
        "        if step is None:\n",
        "            step = self._step\n",
        "        output = self.factor * (self.model_size ** (-0.5) *\n",
        "        min(step ** (-0.5), step * self.warmup ** (-1.5)))\n",
        "        return output"
      ],
      "metadata": {
        "id": "_PtiQEbVCT-4"
      },
      "execution_count": null,
      "outputs": []
    },
    {
      "cell_type": "code",
      "source": [
        "optimizer = NoamOpt(256, 1, 2000, torch.optim.Adam(\n",
        "    model.parameters(), lr=0, betas=(0.9, 0.98), eps=1e-9))"
      ],
      "metadata": {
        "id": "qnhaJ2cgCVXx"
      },
      "execution_count": null,
      "outputs": []
    },
    {
      "cell_type": "code",
      "source": [
        "class SimpleLossCompute:\n",
        "    def __init__(self, generator, criterion, opt=None):\n",
        "        self.generator = generator\n",
        "        self.criterion = criterion\n",
        "        self.opt = opt\n",
        "\n",
        "    def __call__(self, x, y, norm):\n",
        "        x = self.generator(x)\n",
        "        loss = self.criterion(x.contiguous().view(-1, x.size(-1)),\n",
        "                              y.contiguous().view(-1)) / norm\n",
        "        loss.backward()\n",
        "        if self.opt is not None:\n",
        "            self.opt.step()\n",
        "            self.opt.optimizer.zero_grad()\n",
        "        return loss.data.item() * norm.float()"
      ],
      "metadata": {
        "id": "dK7rMkxYCXTU"
      },
      "execution_count": null,
      "outputs": []
    },
    {
      "cell_type": "code",
      "source": [
        "criterion = LabelSmoothing(tgt_vocab,\n",
        "                           padding_idx=0, smoothing=0.1)\n",
        "loss_func = SimpleLossCompute(\n",
        "            model.generator, criterion, optimizer)"
      ],
      "metadata": {
        "id": "zL_nKTyGCbLl"
      },
      "execution_count": null,
      "outputs": []
    },
    {
      "cell_type": "code",
      "source": [
        "os.makedirs(\"files\", exist_ok=True)\n",
        "\n",
        "# Training loop\n",
        "for epoch in range(100):\n",
        "    model.train()\n",
        "    tloss = 0\n",
        "    tokens = 0\n",
        "\n",
        "    for batch in BatchLoader():\n",
        "        out = model(batch.src, batch.trg, batch.src_mask, batch.trg_mask)\n",
        "        loss = loss_func(out, batch.trg_y, batch.ntokens)\n",
        "        tloss += loss\n",
        "        tokens += batch.ntokens\n",
        "\n",
        "    print(f\"Epoch {epoch}, average loss: {tloss/tokens}\")\n",
        "\n",
        "    # ✅ Save every 10 epochs\n",
        "    if (epoch + 1) % 10 == 0:\n",
        "        save_path = f\"files/en2fr_epoch{epoch+1}.pth\"\n",
        "        torch.save(model.state_dict(), save_path)\n",
        "        print(f\"Model saved at {save_path}\")"
      ],
      "metadata": {
        "colab": {
          "base_uri": "https://localhost:8080/"
        },
        "id": "1TwWwEoWCdDw",
        "outputId": "7e03fb8c-0a30-415e-c094-8576cf92fc79"
      },
      "execution_count": null,
      "outputs": [
        {
          "output_type": "stream",
          "name": "stdout",
          "text": [
            "Epoch 0, average loss: 1.0176764726638794\n",
            "Epoch 1, average loss: 0.9543046951293945\n",
            "Epoch 2, average loss: 0.8979665040969849\n",
            "Epoch 3, average loss: 0.8501100540161133\n",
            "Epoch 4, average loss: 0.8128519058227539\n",
            "Epoch 5, average loss: 0.7678053379058838\n",
            "Epoch 6, average loss: 0.7337614893913269\n",
            "Epoch 7, average loss: 0.7081763744354248\n",
            "Epoch 8, average loss: 0.6766673922538757\n",
            "Epoch 9, average loss: 0.6506577134132385\n",
            "Model saved at files/en2fr_epoch10.pth\n",
            "Epoch 10, average loss: 0.6303876638412476\n",
            "Epoch 11, average loss: 0.6090388894081116\n",
            "Epoch 12, average loss: 0.5913387537002563\n",
            "Epoch 13, average loss: 0.5718529224395752\n",
            "Epoch 14, average loss: 0.5580951571464539\n",
            "Epoch 15, average loss: 0.5412417054176331\n",
            "Epoch 16, average loss: 0.5257688760757446\n",
            "Epoch 17, average loss: 0.5163981914520264\n",
            "Epoch 18, average loss: 0.5036115050315857\n",
            "Epoch 19, average loss: 0.4917912781238556\n",
            "Model saved at files/en2fr_epoch20.pth\n",
            "Epoch 20, average loss: 0.48133477568626404\n",
            "Epoch 21, average loss: 0.4737163782119751\n",
            "Epoch 22, average loss: 0.46099400520324707\n",
            "Epoch 23, average loss: 0.4538151025772095\n",
            "Epoch 24, average loss: 0.4433670938014984\n",
            "Epoch 25, average loss: 0.4380263388156891\n",
            "Epoch 26, average loss: 0.4295755624771118\n",
            "Epoch 27, average loss: 0.42159610986709595\n",
            "Epoch 28, average loss: 0.4144865870475769\n",
            "Epoch 29, average loss: 0.4085330069065094\n",
            "Model saved at files/en2fr_epoch30.pth\n",
            "Epoch 30, average loss: 0.401843398809433\n",
            "Epoch 31, average loss: 0.3967965543270111\n",
            "Epoch 32, average loss: 0.3910220265388489\n",
            "Epoch 33, average loss: 0.3867737054824829\n",
            "Epoch 34, average loss: 0.3835403025150299\n",
            "Epoch 35, average loss: 0.376213401556015\n",
            "Epoch 36, average loss: 0.3729907274246216\n",
            "Epoch 37, average loss: 0.36806461215019226\n",
            "Epoch 38, average loss: 0.3635185658931732\n",
            "Epoch 39, average loss: 0.35866019129753113\n",
            "Model saved at files/en2fr_epoch40.pth\n",
            "Epoch 40, average loss: 0.3533268868923187\n",
            "Epoch 41, average loss: 0.3508680462837219\n",
            "Epoch 42, average loss: 0.34780052304267883\n",
            "Epoch 43, average loss: 0.34260639548301697\n",
            "Epoch 44, average loss: 0.33925187587738037\n",
            "Epoch 45, average loss: 0.3366142809391022\n",
            "Epoch 46, average loss: 0.3336775004863739\n",
            "Epoch 47, average loss: 0.3299858570098877\n",
            "Epoch 48, average loss: 0.3262086510658264\n",
            "Epoch 49, average loss: 0.32488518953323364\n",
            "Model saved at files/en2fr_epoch50.pth\n",
            "Epoch 50, average loss: 0.3227843940258026\n",
            "Epoch 51, average loss: 0.3197978734970093\n",
            "Epoch 52, average loss: 0.31722670793533325\n",
            "Epoch 53, average loss: 0.31426867842674255\n",
            "Epoch 54, average loss: 0.3121490478515625\n",
            "Epoch 55, average loss: 0.308104932308197\n",
            "Epoch 56, average loss: 0.3063926100730896\n",
            "Epoch 57, average loss: 0.3039532005786896\n",
            "Epoch 58, average loss: 0.3009850084781647\n",
            "Epoch 59, average loss: 0.29941678047180176\n",
            "Model saved at files/en2fr_epoch60.pth\n",
            "Epoch 60, average loss: 0.29866188764572144\n",
            "Epoch 61, average loss: 0.29597464203834534\n",
            "Epoch 62, average loss: 0.2940431833267212\n",
            "Epoch 63, average loss: 0.2926599383354187\n",
            "Epoch 64, average loss: 0.2899056375026703\n",
            "Epoch 65, average loss: 0.28834429383277893\n",
            "Epoch 66, average loss: 0.28673049807548523\n",
            "Epoch 67, average loss: 0.28585556149482727\n",
            "Epoch 68, average loss: 0.2837103307247162\n",
            "Epoch 69, average loss: 0.2819235920906067\n",
            "Model saved at files/en2fr_epoch70.pth\n",
            "Epoch 70, average loss: 0.27980107069015503\n",
            "Epoch 71, average loss: 0.2787046730518341\n",
            "Epoch 72, average loss: 0.2774035930633545\n",
            "Epoch 73, average loss: 0.2759115993976593\n",
            "Epoch 74, average loss: 0.2739676535129547\n",
            "Epoch 75, average loss: 0.27243608236312866\n",
            "Epoch 76, average loss: 0.2718797028064728\n",
            "Epoch 77, average loss: 0.2701331675052643\n",
            "Epoch 78, average loss: 0.26776695251464844\n",
            "Epoch 79, average loss: 0.26776930689811707\n",
            "Model saved at files/en2fr_epoch80.pth\n",
            "Epoch 80, average loss: 0.26557350158691406\n",
            "Epoch 81, average loss: 0.26516664028167725\n",
            "Epoch 82, average loss: 0.2644250690937042\n",
            "Epoch 83, average loss: 0.2625516951084137\n",
            "Epoch 84, average loss: 0.26118189096450806\n",
            "Epoch 85, average loss: 0.2606441080570221\n",
            "Epoch 86, average loss: 0.25888684391975403\n",
            "Epoch 87, average loss: 0.25816547870635986\n",
            "Epoch 88, average loss: 0.2574337422847748\n",
            "Epoch 89, average loss: 0.2551518678665161\n",
            "Model saved at files/en2fr_epoch90.pth\n",
            "Epoch 90, average loss: 0.25500252842903137\n",
            "Epoch 91, average loss: 0.25298386812210083\n",
            "Epoch 92, average loss: 0.25255852937698364\n",
            "Epoch 93, average loss: 0.25152337551116943\n",
            "Epoch 94, average loss: 0.2505265474319458\n",
            "Epoch 95, average loss: 0.24990226328372955\n",
            "Epoch 96, average loss: 0.24883447587490082\n",
            "Epoch 97, average loss: 0.24847523868083954\n",
            "Epoch 98, average loss: 0.2483385056257248\n",
            "Epoch 99, average loss: 0.24619731307029724\n",
            "Model saved at files/en2fr_epoch100.pth\n"
          ]
        }
      ]
    },
    {
      "cell_type": "code",
      "source": [
        "def translate(eng):\n",
        "    # tokenize the English sentence\n",
        "    tokenized_en=tokenizer.tokenize(eng)\n",
        "    # add beginning and end tokens\n",
        "    tokenized_en=[\"BOS\"]+tokenized_en+[\"EOS\"]\n",
        "    # convert tokens to indexes\n",
        "    enidx=[en_word_dict.get(i,UNK) for i in tokenized_en]\n",
        "    src=torch.tensor(enidx).long().to(DEVICE).unsqueeze(0)\n",
        "    # create mask to hide padding\n",
        "    src_mask=(src!=0).unsqueeze(-2)\n",
        "    # encode the English sentence\n",
        "    memory=model.encode(src,src_mask)\n",
        "    # start translation in an autogressive fashion\n",
        "    start_symbol=fr_word_dict[\"BOS\"]\n",
        "    ys = torch.ones(1, 1).fill_(start_symbol).type_as(src.data)\n",
        "    translation=[]\n",
        "    for i in range(100):\n",
        "        out = model.decode(memory,src_mask,ys,\n",
        "        subsequent_mask(ys.size(1)).type_as(src.data))\n",
        "        prob = model.generator(out[:, -1])\n",
        "        _, next_word = torch.max(prob, dim=1)\n",
        "        next_word = next_word.data[0]\n",
        "        ys = torch.cat([ys, torch.ones(1, 1).type_as(\n",
        "            src.data).fill_(next_word)], dim=1)\n",
        "        sym = fr_idx_dict[ys[0, -1].item()]\n",
        "        if sym != 'EOS':\n",
        "            translation.append(sym)\n",
        "        else:\n",
        "            break\n",
        "    # convert tokens to sentences\n",
        "    trans=\"\".join(translation)\n",
        "    trans=trans.replace(\"</w>\",\" \")\n",
        "    for x in '''?:;.,'(\"-!&)%''':\n",
        "        trans=trans.replace(f\" {x}\",f\"{x}\")\n",
        "    print(trans)\n",
        "    return trans"
      ],
      "metadata": {
        "id": "fdpRa9nMCe0j"
      },
      "execution_count": null,
      "outputs": []
    },
    {
      "cell_type": "code",
      "source": [
        "with open(\"/files/dict.p\",\"rb\") as fb:\n",
        "    en_word_dict,en_idx_dict,\\\n",
        "    fr_word_dict,fr_idx_dict=pickle.load(fb)\n",
        "trained_weights=torch.load(\"/content/files/en2fr_epoch90.pth\",\n",
        "                           map_location=DEVICE)\n",
        "model.load_state_dict(trained_weights)\n",
        "model.eval()\n",
        "eng = \"Today is a beautiful day!\"\n",
        "translated_fr = translate(eng)"
      ],
      "metadata": {
        "colab": {
          "base_uri": "https://localhost:8080/"
        },
        "id": "fg90uZnJXdPM",
        "outputId": "c5fdeb15-e991-43d5-9e02-add9c1ebd494"
      },
      "execution_count": null,
      "outputs": [
        {
          "output_type": "stream",
          "name": "stdout",
          "text": [
            "aujourd'hui est une belle journee! \n"
          ]
        }
      ]
    },
    {
      "cell_type": "code",
      "source": [
        "eng = \"A little boy in jeans climbs a small tree while another child looks on.\"\n",
        "translated_fr = translate(eng)"
      ],
      "metadata": {
        "colab": {
          "base_uri": "https://localhost:8080/"
        },
        "id": "Bne8Pv7oXexY",
        "outputId": "9d8c6eb6-f04a-4ea2-9e01-0d5e618d0e78"
      },
      "execution_count": null,
      "outputs": [
        {
          "output_type": "stream",
          "name": "stdout",
          "text": [
            "un petit garcon en jeans grimpe un petit arbre tandis qu'un autre enfant regarde. \n"
          ]
        }
      ]
    },
    {
      "cell_type": "code",
      "source": [
        "eng = \"I don't speak French.\"\n",
        "translated_fr = translate(eng)"
      ],
      "metadata": {
        "colab": {
          "base_uri": "https://localhost:8080/"
        },
        "id": "eK1AfZzaXgFM",
        "outputId": "489034a1-e005-40c3-87e2-e98a951571f4"
      },
      "execution_count": null,
      "outputs": [
        {
          "output_type": "stream",
          "name": "stdout",
          "text": [
            "je ne parle pas francais. \n"
          ]
        }
      ]
    },
    {
      "cell_type": "code",
      "source": [
        "eng = \"I do not speak French.\"\n",
        "translated_fr = translate(eng)"
      ],
      "metadata": {
        "colab": {
          "base_uri": "https://localhost:8080/"
        },
        "id": "w9YOPLbWXiV6",
        "outputId": "93cdca1b-538f-4fa5-eb4d-eaa888a2a99c"
      },
      "execution_count": null,
      "outputs": [
        {
          "output_type": "stream",
          "name": "stdout",
          "text": [
            "je ne parle pas francais. \n"
          ]
        }
      ]
    },
    {
      "cell_type": "code",
      "source": [
        "eng = \"I love skiing in the winter!\"\n",
        "translated_fr = translate(eng)\n",
        "eng = \"How are you?\"\n",
        "translated_fr = translate(eng)"
      ],
      "metadata": {
        "colab": {
          "base_uri": "https://localhost:8080/"
        },
        "id": "2CyMviihXixx",
        "outputId": "84cf8f5a-8731-4ced-9b92-214b2e22efd3"
      },
      "execution_count": null,
      "outputs": [
        {
          "output_type": "stream",
          "name": "stdout",
          "text": [
            "j'aime commencer au ski en hiver! \n",
            "comment etes-vous? \n"
          ]
        }
      ]
    }
  ]
}